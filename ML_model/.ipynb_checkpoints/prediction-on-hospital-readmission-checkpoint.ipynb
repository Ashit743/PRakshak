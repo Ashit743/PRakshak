{
 "cells": [
  {
   "cell_type": "markdown",
   "metadata": {},
   "source": [
    "# Prediction on Diabetes Patient's Hospital Readmission\n",
    "\n",
    "![](https://www.docwirenews.com/wp-content/uploads/2019/05/readmissions.jpg)\n",
    "\n",
    "Problem Statement and Objective\n",
    "A hospital readmission is when a patient who is discharged from the hospital, gets re-admitted again within a certain period of time. Hospital readmission rates for certain conditions are now considered an indicator of hospital quality, and also affect the cost of care adversely. For this reason, Centers for Medicare & Medicaid Services established the Hospital Readmissions Reduction Program which aims to improve quality of care for patients and reduce health care spending by applying payment penalties to hospitals that have more than expected readmission rates for certain conditions. Although diabetes is not yet included in the penalty measures, the program is regularly adding new disease conditions to the list, now totaling 6 for FY2018. In 2011, American hospitals spent over $41 billion on diabetic patients who got readmitted within 30 days of discharge. Being able to determine factors that lead to higher readmission in such patients, and correspondingly being able to predict which patients will get readmitted can help hospitals save millions of dollars while improving quality of care. So, with that background in mind, we used a medical claims dataset (description below), to answer these questions:\n",
    "\n",
    "1. What factors are the strongest predictors of hospital readmission in diabetic patients?\n",
    "2. How well can we predict hospital readmission in this dataset with limited features?"
   ]
  },
  {
   "cell_type": "markdown",
   "metadata": {
    "_cell_guid": "79c7e3d0-c299-4dcb-8224-4455121ee9b0",
    "_kg_hide-input": true,
    "_uuid": "d629ff2d2480ee46fbb7e2d37f6b5fab8052498a"
   },
   "source": [
    "# Data Set Description\n",
    "\n",
    "\n",
    "**VARIABLE NAMES**: DESCRIPTION\n",
    "* **Encounter ID**\tUnique identifier of an encounter\n",
    "* **Patient number**\tUnique identifier of a patient\n",
    "* **Race**\tValues: Caucasian, Asian, African American, Hispanic, and other\n",
    "* **Gender**\tValues: male, female, and unknown/invalid\n",
    "* **Age**\tGrouped in 10-year intervals: 0, 10), 10, 20), …, 90, 100)\n",
    "* **Weight**\tWeight in pounds\n",
    "* **Admission type**\tInteger identifier corresponding to 9 distinct values, for example, emergency, urgent, elective, newborn, and not available\n",
    "* **Discharge disposition**\tInteger identifier corresponding to 29 distinct values, for example, discharged to home, expired, and not available\n",
    "* **Admission source**\tInteger identifier corresponding to 21 distinct values, for example, physician referral, emergency room, and transfer from a hospital\n",
    "* **Time in hospital**\tInteger number of days between admission and discharge\n",
    "* **Payer code**\tInteger identifier corresponding to 23 distinct values, for example, Blue Cross/Blue Shield, Medicare, and self-pay Medical\n",
    "* **Medical specialty**\tInteger identifier of a specialty of the admitting physician, corresponding to 84 distinct values, for example, cardiology, internal medicine, family/general practice, and surgeon\n",
    "* **Number of lab procedures**\tNumber of lab tests performed during the encounter\n",
    "* **Number of procedures** Numeric\tNumber of procedures (other than lab tests) performed during the encounter\n",
    "* **Number of medications**\tNumber of distinct generic names administered during the encounter\n",
    "* **Number of outpatient visits** Number of outpatient visits of the patient in the year preceding the encounter\n",
    "* **Number of emergency visits**\tNumber of emergency visits of the patient in the year preceding the encounter\n",
    "* **Number of inpatient visits**\tNumber of inpatient visits of the patient in the year preceding the encounter\n",
    "* **Diagnosis 1**\tThe primary diagnosis (coded as first three digits of ICD9); 848 distinct values\n",
    "* **Diagnosis 2**\tSecondary diagnosis (coded as first three digits of ICD9); 923 distinct values\n",
    "* **Diagnosis 3** Additional secondary diagnosis (coded as first three digits of ICD9); 954 distinct values\n",
    "* **Number of diagnoses**\tNumber of diagnoses entered to the system 0%\n",
    "* **Glucose serum test result**\tIndicates the range of the result or if the test was not taken. Values: “>200,” “>300,” “normal,” and “none” if not measured\n",
    "* **A1c test result**\tIndicates the range of the result or if the test was not taken. Values: “>8” if the result was greater than 8%, “>7” if the result was greater than 7% but less than 8%, “normal” if the result was less than 7%, and “none” if not measured.\n",
    "* **Change of medications**\tIndicates if there was a change in diabetic medications (either dosage or generic name). Values: “change” and “no change”\n",
    "* **Diabetes medications**\tIndicates if there was any diabetic medication prescribed. Values: “yes” and “no”\n",
    "* 24 features for medications\tFor the generic names: **metformin, repaglinide, nateglinide, chlorpropamide, glimepiride, acetohexamide, glipizide, glyburide, tolbutamide, pioglitazone, rosiglitazone, acarbose, miglitol, troglitazone, tolazamide, examide, sitagliptin, insulin, glyburide-metformin, glipizide-metformin, glimepiride- pioglitazone, metformin-rosiglitazone, and metformin- pioglitazone**, the feature indicates whether the drug was prescribed or there was a change in the dosage. Values: “up” if the dosage was increased during the encounter, “down” if the dosage was decreased, “steady” if the dosage did not change, and “no” if the drug was not prescribed\n",
    "* **Readmitted**\tDays to inpatient readmission. Values: “<30” if the patient was readmitted in less than 30 days, “>30” if the patient was readmitted in more than 30 days, and “No” for no record of readmission\n",
    "\n",
    "\n",
    "\n",
    "\n",
    "\n",
    "\n",
    "\n",
    "\n"
   ]
  },
  {
   "cell_type": "markdown",
   "metadata": {
    "_uuid": "e8459f4e9e52473b4fe8824724a87798e1946e02"
   },
   "source": [
    "# Data Preparation & Exploration "
   ]
  },
  {
   "cell_type": "code",
   "execution_count": 2,
   "metadata": {
    "_uuid": "f159da396824602d8ae73fc5cb08f84987ce91f6"
   },
   "outputs": [
    {
     "ename": "ModuleNotFoundError",
     "evalue": "No module named 'pandas'",
     "output_type": "error",
     "traceback": [
      "\u001b[1;31m---------------------------------------------------------------------------\u001b[0m",
      "\u001b[1;31mModuleNotFoundError\u001b[0m                       Traceback (most recent call last)",
      "Cell \u001b[1;32mIn[2], line 2\u001b[0m\n\u001b[0;32m      1\u001b[0m \u001b[38;5;66;03m#Loading libraries \u001b[39;00m\n\u001b[1;32m----> 2\u001b[0m \u001b[38;5;28;01mimport\u001b[39;00m \u001b[38;5;21;01mpandas\u001b[39;00m \u001b[38;5;28;01mas\u001b[39;00m \u001b[38;5;21;01mpd\u001b[39;00m \n\u001b[0;32m      3\u001b[0m \u001b[38;5;28;01mimport\u001b[39;00m \u001b[38;5;21;01mnumpy\u001b[39;00m \u001b[38;5;28;01mas\u001b[39;00m \u001b[38;5;21;01mnp\u001b[39;00m\n\u001b[0;32m      4\u001b[0m \u001b[38;5;28;01mimport\u001b[39;00m \u001b[38;5;21;01mmatplotlib\u001b[39;00m\u001b[38;5;21;01m.\u001b[39;00m\u001b[38;5;21;01mpyplot\u001b[39;00m \u001b[38;5;28;01mas\u001b[39;00m \u001b[38;5;21;01mplt\u001b[39;00m\n",
      "\u001b[1;31mModuleNotFoundError\u001b[0m: No module named 'pandas'"
     ]
    }
   ],
   "source": [
    "#Loading libraries \n",
    "import pandas as pd \n",
    "import numpy as np\n",
    "import matplotlib.pyplot as plt\n",
    "import seaborn as sns\n",
    "\n"
   ]
  },
  {
   "cell_type": "code",
   "execution_count": 3,
   "metadata": {
    "_uuid": "d2d61c7050ae4bf21dd0c5e84949ed951483312d"
   },
   "outputs": [
    {
     "ename": "NameError",
     "evalue": "name 'pd' is not defined",
     "output_type": "error",
     "traceback": [
      "\u001b[1;31m---------------------------------------------------------------------------\u001b[0m",
      "\u001b[1;31mNameError\u001b[0m                                 Traceback (most recent call last)",
      "Cell \u001b[1;32mIn[3], line 2\u001b[0m\n\u001b[0;32m      1\u001b[0m \u001b[38;5;66;03m#loading Dataset\u001b[39;00m\n\u001b[1;32m----> 2\u001b[0m df \u001b[38;5;241m=\u001b[39m \u001b[43mpd\u001b[49m\u001b[38;5;241m.\u001b[39mread_csv(\u001b[38;5;124m\"\u001b[39m\u001b[38;5;124m../input/diabetic_data.csv\u001b[39m\u001b[38;5;124m\"\u001b[39m)\n",
      "\u001b[1;31mNameError\u001b[0m: name 'pd' is not defined"
     ]
    }
   ],
   "source": [
    "#loading Dataset\n",
    "df = pd.read_csv(\"../input/diabetic_data.csv\")"
   ]
  },
  {
   "cell_type": "code",
   "execution_count": null,
   "metadata": {
    "_uuid": "06c7f80de93a3640a4cdaafc392374cdaf3d4e23",
    "execution": {
     "iopub.execute_input": "2024-02-19T19:42:47.657865Z",
     "iopub.status.busy": "2024-02-19T19:42:47.657513Z",
     "iopub.status.idle": "2024-02-19T19:42:47.741447Z",
     "shell.execute_reply": "2024-02-19T19:42:47.740440Z",
     "shell.execute_reply.started": "2024-02-19T19:42:47.657800Z"
    }
   },
   "outputs": [],
   "source": [
    "#displaying first 10 rows of data\n",
    "df.head(10).T"
   ]
  },
  {
   "cell_type": "code",
   "execution_count": null,
   "metadata": {
    "_uuid": "3bdb38381d0dfc06aab75ff81c0dc59287ce470f",
    "execution": {
     "iopub.execute_input": "2024-02-19T19:42:47.744013Z",
     "iopub.status.busy": "2024-02-19T19:42:47.743632Z",
     "iopub.status.idle": "2024-02-19T19:42:47.750938Z",
     "shell.execute_reply": "2024-02-19T19:42:47.749984Z",
     "shell.execute_reply.started": "2024-02-19T19:42:47.743937Z"
    }
   },
   "outputs": [],
   "source": [
    "#checking shape of the dataset\n",
    "df.shape"
   ]
  },
  {
   "cell_type": "code",
   "execution_count": null,
   "metadata": {
    "_uuid": "169448129042f3eba5d3d406bf84f04a11a722d3",
    "execution": {
     "iopub.execute_input": "2024-02-19T19:42:47.752997Z",
     "iopub.status.busy": "2024-02-19T19:42:47.752595Z",
     "iopub.status.idle": "2024-02-19T19:42:47.767558Z",
     "shell.execute_reply": "2024-02-19T19:42:47.766531Z",
     "shell.execute_reply.started": "2024-02-19T19:42:47.752899Z"
    }
   },
   "outputs": [],
   "source": [
    "#Checking data types of each variable\n",
    "df.dtypes"
   ]
  },
  {
   "cell_type": "code",
   "execution_count": null,
   "metadata": {
    "_uuid": "fda696aba45c9a0638e4dcf95c292aeba37f0f14",
    "execution": {
     "iopub.execute_input": "2024-02-19T19:42:47.769908Z",
     "iopub.status.busy": "2024-02-19T19:42:47.769515Z",
     "iopub.status.idle": "2024-02-19T19:42:48.710143Z",
     "shell.execute_reply": "2024-02-19T19:42:48.708497Z",
     "shell.execute_reply.started": "2024-02-19T19:42:47.769837Z"
    }
   },
   "outputs": [],
   "source": [
    "#Checking for missing values in dataset\n",
    "#In the dataset missing values are represented as '?' sign\n",
    "for col in df.columns:\n",
    "    if df[col].dtype == object:\n",
    "         print(col,df[col][df[col] == '?'].count())"
   ]
  },
  {
   "cell_type": "code",
   "execution_count": null,
   "metadata": {
    "_uuid": "d048d16f638808017b8f95345920cdcec6dc9ff5",
    "execution": {
     "iopub.execute_input": "2024-02-19T19:42:48.712051Z",
     "iopub.status.busy": "2024-02-19T19:42:48.711763Z",
     "iopub.status.idle": "2024-02-19T19:42:48.743741Z",
     "shell.execute_reply": "2024-02-19T19:42:48.742369Z",
     "shell.execute_reply.started": "2024-02-19T19:42:48.712003Z"
    }
   },
   "outputs": [],
   "source": [
    "# gender was coded differently so we use a custom count for this one            \n",
    "print('gender', df['gender'][df['gender'] == 'Unknown/Invalid'].count())            "
   ]
  },
  {
   "cell_type": "markdown",
   "metadata": {
    "_uuid": "6e22d1a4d0030454d23ae88722b3030dcbb0b540"
   },
   "source": [
    "## Dealing with Missing Values\n",
    "Variable weight contains approximate 98% of the missing values so there is no significance in filling those missing values so we decided to drop these variables. Variable Payer code and medical specialty contains approximate 40% missing values so we also dropped these variables. Variables race, diag_1, diag_2, diag_3 and gender contains very less missing values as compared to other attributes which we dropped so for these attributes we also decided to drop those where missing values contains."
   ]
  },
  {
   "cell_type": "code",
   "execution_count": null,
   "metadata": {
    "_uuid": "6edaf833116f062e8b729403b2f1bc871fa7c3ff",
    "execution": {
     "iopub.execute_input": "2024-02-19T19:42:48.746225Z",
     "iopub.status.busy": "2024-02-19T19:42:48.745593Z",
     "iopub.status.idle": "2024-02-19T19:42:48.825029Z",
     "shell.execute_reply": "2024-02-19T19:42:48.824070Z",
     "shell.execute_reply.started": "2024-02-19T19:42:48.746136Z"
    }
   },
   "outputs": [],
   "source": [
    "#dropping columns with large number of missing values\n",
    "df = df.drop(['weight','payer_code','medical_specialty'], axis = 1)"
   ]
  },
  {
   "cell_type": "code",
   "execution_count": null,
   "metadata": {
    "_uuid": "e7934d84f6119a0d5e524b8d8250a143f6de87bc",
    "execution": {
     "iopub.execute_input": "2024-02-19T19:42:48.828719Z",
     "iopub.status.busy": "2024-02-19T19:42:48.828362Z",
     "iopub.status.idle": "2024-02-19T19:42:49.152038Z",
     "shell.execute_reply": "2024-02-19T19:42:49.150951Z",
     "shell.execute_reply.started": "2024-02-19T19:42:48.828653Z"
    }
   },
   "outputs": [],
   "source": [
    "drop_Idx = set(df[(df['diag_1'] == '?') & (df['diag_2'] == '?') & (df['diag_3'] == '?')].index)\n",
    "\n",
    "drop_Idx = drop_Idx.union(set(df['diag_1'][df['diag_1'] == '?'].index))\n",
    "drop_Idx = drop_Idx.union(set(df['diag_2'][df['diag_2'] == '?'].index))\n",
    "drop_Idx = drop_Idx.union(set(df['diag_3'][df['diag_3'] == '?'].index))\n",
    "drop_Idx = drop_Idx.union(set(df['race'][df['race'] == '?'].index))\n",
    "drop_Idx = drop_Idx.union(set(df[df['discharge_disposition_id'] == 11].index))\n",
    "drop_Idx = drop_Idx.union(set(df['gender'][df['gender'] == 'Unknown/Invalid'].index))\n",
    "new_Idx = list(set(df.index) - set(drop_Idx))\n",
    "df = df.iloc[new_Idx]"
   ]
  },
  {
   "cell_type": "markdown",
   "metadata": {
    "_uuid": "930d7a144498a9fabd43d9de775dcd30b76b70c5"
   },
   "source": [
    "variables (drugs named citoglipton and examide), all records have the same value. So essentially these cannot provide any interpretive or discriminatory information for predicting readmission so we decided to drop these two variables\n"
   ]
  },
  {
   "cell_type": "code",
   "execution_count": null,
   "metadata": {
    "_uuid": "c61817d428256fe7dbc6fc4268585a54fc3d5463",
    "execution": {
     "iopub.execute_input": "2024-02-19T19:42:49.153979Z",
     "iopub.status.busy": "2024-02-19T19:42:49.153658Z",
     "iopub.status.idle": "2024-02-19T19:42:49.220424Z",
     "shell.execute_reply": "2024-02-19T19:42:49.219266Z",
     "shell.execute_reply.started": "2024-02-19T19:42:49.153916Z"
    }
   },
   "outputs": [],
   "source": [
    "df = df.drop(['citoglipton', 'examide'], axis = 1)"
   ]
  },
  {
   "cell_type": "code",
   "execution_count": null,
   "metadata": {
    "_uuid": "92231506c0a8f53dddc12d4065db0329ac538a5b",
    "execution": {
     "iopub.execute_input": "2024-02-19T19:42:49.222237Z",
     "iopub.status.busy": "2024-02-19T19:42:49.221822Z",
     "iopub.status.idle": "2024-02-19T19:42:50.002049Z",
     "shell.execute_reply": "2024-02-19T19:42:50.001108Z",
     "shell.execute_reply.started": "2024-02-19T19:42:49.222166Z"
    }
   },
   "outputs": [],
   "source": [
    "#Checking for missing values in the data\n",
    "for col in df.columns:\n",
    "    if df[col].dtype == object:\n",
    "         print(col,df[col][df[col] == '?'].count())\n",
    "            \n",
    "print('gender', df['gender'][df['gender'] == 'Unknown/Invalid'].count())   "
   ]
  },
  {
   "cell_type": "markdown",
   "metadata": {},
   "source": [
    "## Feature Engineering"
   ]
  },
  {
   "cell_type": "markdown",
   "metadata": {},
   "source": [
    "This is highly subjective, and partly depends on a knowledge of health care services, and making sense of the potential relationships between features. There are perhaps thousands of ways to try here. We tried some...\n",
    "\n",
    "* Service utilization: The data contains variables for number of inpatient (admissions), emergency room visits and outpatient visits for a given patient in the previous one year. These are (crude) measures of how much hospital/clinic services a person has used in the past year. We added these three to create a new variable called service utilization (see figure below). The idea was to see which version gives us better results. Granted, we did not apply any special weighting to the three ingredients of service utilization but we wanted to try something simple at this stage.\n",
    "\n"
   ]
  },
  {
   "cell_type": "code",
   "execution_count": null,
   "metadata": {
    "execution": {
     "iopub.execute_input": "2024-02-19T19:42:50.006532Z",
     "iopub.status.busy": "2024-02-19T19:42:50.006180Z",
     "iopub.status.idle": "2024-02-19T19:42:50.104891Z",
     "shell.execute_reply": "2024-02-19T19:42:50.103921Z",
     "shell.execute_reply.started": "2024-02-19T19:42:50.006461Z"
    }
   },
   "outputs": [],
   "source": [
    "df['service_utilization'] = df['number_outpatient'] + df['number_emergency'] + df['number_inpatient']"
   ]
  },
  {
   "cell_type": "markdown",
   "metadata": {},
   "source": [
    "* Number of medication changes: The dataset contains 23 features for 23 drugs (or combos) which indicate for each of these, whether a change in that medication was made or not during the current hospital stay of patient. Medication change for diabetics upon admission has been shown by previous research to be associated with lower readmission rates. We decided to count how many changes were made in total for each patient, and declared that a new feature. The reasoning here was to both simplify the model and possibly discover a relationship with number of changes regardless of which drug was changed."
   ]
  },
  {
   "cell_type": "code",
   "execution_count": null,
   "metadata": {
    "execution": {
     "iopub.execute_input": "2024-02-19T19:42:50.106892Z",
     "iopub.status.busy": "2024-02-19T19:42:50.106254Z",
     "iopub.status.idle": "2024-02-19T19:42:51.916530Z",
     "shell.execute_reply": "2024-02-19T19:42:51.915583Z",
     "shell.execute_reply.started": "2024-02-19T19:42:50.106826Z"
    }
   },
   "outputs": [],
   "source": [
    "keys = ['metformin', 'repaglinide', 'nateglinide', 'chlorpropamide', 'glimepiride', 'glipizide', 'glyburide', 'pioglitazone', 'rosiglitazone', 'acarbose', 'miglitol', 'insulin', 'glyburide-metformin', 'tolazamide', 'metformin-pioglitazone','metformin-rosiglitazone', 'glimepiride-pioglitazone', 'glipizide-metformin', 'troglitazone', 'tolbutamide', 'acetohexamide']\n",
    "for col in keys:\n",
    "    colname = str(col) + 'temp'\n",
    "    df[colname] = df[col].apply(lambda x: 0 if (x == 'No' or x == 'Steady') else 1)\n",
    "df['numchange'] = 0\n",
    "for col in keys:\n",
    "    colname = str(col) + 'temp'\n",
    "    df['numchange'] = df['numchange'] + df[colname]\n",
    "    del df[colname]\n",
    "    \n",
    "df['numchange'].value_counts()  "
   ]
  },
  {
   "cell_type": "code",
   "execution_count": null,
   "metadata": {
    "execution": {
     "iopub.execute_input": "2024-02-19T19:42:51.918046Z",
     "iopub.status.busy": "2024-02-19T19:42:51.917783Z",
     "iopub.status.idle": "2024-02-19T19:42:51.979472Z",
     "shell.execute_reply": "2024-02-19T19:42:51.978393Z",
     "shell.execute_reply.started": "2024-02-19T19:42:51.918001Z"
    }
   },
   "outputs": [],
   "source": [
    "# re-encoding admission type, discharge type and admission source into fewer categories\n",
    "\n",
    "df['admission_type_id'] = df['admission_type_id'].replace(2,1)\n",
    "df['admission_type_id'] = df['admission_type_id'].replace(7,1)\n",
    "df['admission_type_id'] = df['admission_type_id'].replace(6,5)\n",
    "df['admission_type_id'] = df['admission_type_id'].replace(8,5)\n",
    "\n",
    "df['discharge_disposition_id'] = df['discharge_disposition_id'].replace(6,1)\n",
    "df['discharge_disposition_id'] = df['discharge_disposition_id'].replace(8,1)\n",
    "df['discharge_disposition_id'] = df['discharge_disposition_id'].replace(9,1)\n",
    "df['discharge_disposition_id'] = df['discharge_disposition_id'].replace(13,1)\n",
    "df['discharge_disposition_id'] = df['discharge_disposition_id'].replace(3,2)\n",
    "df['discharge_disposition_id'] = df['discharge_disposition_id'].replace(4,2)\n",
    "df['discharge_disposition_id'] = df['discharge_disposition_id'].replace(5,2)\n",
    "df['discharge_disposition_id'] = df['discharge_disposition_id'].replace(14,2)\n",
    "df['discharge_disposition_id'] = df['discharge_disposition_id'].replace(22,2)\n",
    "df['discharge_disposition_id'] = df['discharge_disposition_id'].replace(23,2)\n",
    "df['discharge_disposition_id'] = df['discharge_disposition_id'].replace(24,2)\n",
    "df['discharge_disposition_id'] = df['discharge_disposition_id'].replace(12,10)\n",
    "df['discharge_disposition_id'] = df['discharge_disposition_id'].replace(15,10)\n",
    "df['discharge_disposition_id'] = df['discharge_disposition_id'].replace(16,10)\n",
    "df['discharge_disposition_id'] = df['discharge_disposition_id'].replace(17,10)\n",
    "df['discharge_disposition_id'] = df['discharge_disposition_id'].replace(25,18)\n",
    "df['discharge_disposition_id'] = df['discharge_disposition_id'].replace(26,18)\n",
    "\n",
    "df['admission_source_id'] = df['admission_source_id'].replace(2,1)\n",
    "df['admission_source_id'] = df['admission_source_id'].replace(3,1)\n",
    "df['admission_source_id'] = df['admission_source_id'].replace(5,4)\n",
    "df['admission_source_id'] = df['admission_source_id'].replace(6,4)\n",
    "df['admission_source_id'] = df['admission_source_id'].replace(10,4)\n",
    "df['admission_source_id'] = df['admission_source_id'].replace(22,4)\n",
    "df['admission_source_id'] = df['admission_source_id'].replace(25,4)\n",
    "df['admission_source_id'] = df['admission_source_id'].replace(15,9)\n",
    "df['admission_source_id'] = df['admission_source_id'].replace(17,9)\n",
    "df['admission_source_id'] = df['admission_source_id'].replace(20,9)\n",
    "df['admission_source_id'] = df['admission_source_id'].replace(21,9)\n",
    "df['admission_source_id'] = df['admission_source_id'].replace(13,11)\n",
    "df['admission_source_id'] = df['admission_source_id'].replace(14,11)"
   ]
  },
  {
   "cell_type": "markdown",
   "metadata": {},
   "source": [
    "* Encoding some variables: The original dataset used string values for gender, race, medication change, and each of the 23 drugs used. To better fit those variables into our model, we interpret the variables to numeric binary variables to reflect their nature. For example, we encoded the “ medication change ” feature from “No” (no change) and “Ch” (changed) into 0 and 1. \n"
   ]
  },
  {
   "cell_type": "code",
   "execution_count": null,
   "metadata": {
    "execution": {
     "iopub.execute_input": "2024-02-19T19:42:51.981049Z",
     "iopub.status.busy": "2024-02-19T19:42:51.980794Z",
     "iopub.status.idle": "2024-02-19T19:42:55.057915Z",
     "shell.execute_reply": "2024-02-19T19:42:55.057136Z",
     "shell.execute_reply.started": "2024-02-19T19:42:51.981004Z"
    }
   },
   "outputs": [],
   "source": [
    "df['change'] = df['change'].replace('Ch', 1)\n",
    "df['change'] = df['change'].replace('No', 0)\n",
    "df['gender'] = df['gender'].replace('Male', 1)\n",
    "df['gender'] = df['gender'].replace('Female', 0)\n",
    "df['diabetesMed'] = df['diabetesMed'].replace('Yes', 1)\n",
    "df['diabetesMed'] = df['diabetesMed'].replace('No', 0)\n",
    "# keys is the same as before\n",
    "for col in keys:\n",
    "    df[col] = df[col].replace('No', 0)\n",
    "    df[col] = df[col].replace('Steady', 1)\n",
    "    df[col] = df[col].replace('Up', 1)\n",
    "    df[col] = df[col].replace('Down', 1)"
   ]
  },
  {
   "cell_type": "markdown",
   "metadata": {},
   "source": [
    "We also reduced both A1C test result and Glucose serum test result into categories of Normal, Abnormal and Not tested.\n"
   ]
  },
  {
   "cell_type": "code",
   "execution_count": null,
   "metadata": {
    "execution": {
     "iopub.execute_input": "2024-02-19T19:42:55.059534Z",
     "iopub.status.busy": "2024-02-19T19:42:55.059077Z",
     "iopub.status.idle": "2024-02-19T19:42:55.207817Z",
     "shell.execute_reply": "2024-02-19T19:42:55.206799Z",
     "shell.execute_reply.started": "2024-02-19T19:42:55.059486Z"
    }
   },
   "outputs": [],
   "source": [
    "df['A1Cresult'] = df['A1Cresult'].replace('>7', 1)\n",
    "df['A1Cresult'] = df['A1Cresult'].replace('>8', 1)\n",
    "df['A1Cresult'] = df['A1Cresult'].replace('Norm', 0)\n",
    "df['A1Cresult'] = df['A1Cresult'].replace('None', -99)\n",
    "df['max_glu_serum'] = df['max_glu_serum'].replace('>200', 1)\n",
    "df['max_glu_serum'] = df['max_glu_serum'].replace('>300', 1)\n",
    "df['max_glu_serum'] = df['max_glu_serum'].replace('Norm', 0)\n",
    "df['max_glu_serum'] = df['max_glu_serum'].replace('None', -99)"
   ]
  },
  {
   "cell_type": "markdown",
   "metadata": {},
   "source": [
    "* Dealing with age: There are different ways to deal with this. The dataset only gives us age as 10 year categories, so we don’t know the exact age of each patient. The previous study on this dataset used age categories as nominal variables, but we wanted to be able to see the effect of increasing age on readmission, even if in a crude way. To do that, we assume that age of the patient on average lies at the midpoint of the age category. For example, if the patient’s age category is 20–30 years, then we assume the age = 25 years. So we converted age categories to midpoints, resulting in a numeric variable:"
   ]
  },
  {
   "cell_type": "code",
   "execution_count": null,
   "metadata": {
    "execution": {
     "iopub.execute_input": "2024-02-19T19:42:55.209420Z",
     "iopub.status.busy": "2024-02-19T19:42:55.209044Z",
     "iopub.status.idle": "2024-02-19T19:42:55.350132Z",
     "shell.execute_reply": "2024-02-19T19:42:55.349306Z",
     "shell.execute_reply.started": "2024-02-19T19:42:55.209372Z"
    }
   },
   "outputs": [],
   "source": [
    "# code age intervals [0-10) - [90-100) from 1-10\n",
    "for i in range(0,10):\n",
    "    df['age'] = df['age'].replace('['+str(10*i)+'-'+str(10*(i+1))+')', i+1)\n",
    "df['age'].value_counts()"
   ]
  },
  {
   "cell_type": "markdown",
   "metadata": {},
   "source": [
    "Collapsing of Multiple Encounters for same patient Some patients in the dataset had more than one encounter.We could not count them as independent encounters because that bias the results towards those patients who had multiple encounters. Thus we tried multiple techniques to collapse and consolidate multiple encounters for same patient such as:\n",
    "\n",
    "* Considering more than 2 readmissions across multiple encounters as readmission for collapsed record.\n",
    "* Considering average stay at hospital across multiple encounters.\n",
    "* Considering the percentage of the medication changes across multiple encounters\n",
    "* Considering the total number of the encounters to replace the encounter unique ID\n",
    "* Considering the combination of diagnoses across multiple encounters as a list However, taking the features such as “diagnosis”, for instance, we did not find it not meaningful to combine multiple categorical values into an array for building data model. We then considered first encounter and last encounter separately as possible representations of multiple encounters. However, last encounters gave extremely imbalanced data for readmissions (96/4 Readmissions vs No Readmissions) and thus, we decided to use first encounters of patients with multiple encounters. This resulted in dataset being reduced to about 70,000 encounters:"
   ]
  },
  {
   "cell_type": "code",
   "execution_count": null,
   "metadata": {
    "execution": {
     "iopub.execute_input": "2024-02-19T19:42:55.351578Z",
     "iopub.status.busy": "2024-02-19T19:42:55.351313Z",
     "iopub.status.idle": "2024-02-19T19:42:55.434533Z",
     "shell.execute_reply": "2024-02-19T19:42:55.433518Z",
     "shell.execute_reply.started": "2024-02-19T19:42:55.351533Z"
    }
   },
   "outputs": [],
   "source": [
    "df2 = df.drop_duplicates(subset= ['patient_nbr'], keep = 'first')\n",
    "df2.shape\n",
    "(70442, 55)"
   ]
  },
  {
   "cell_type": "code",
   "execution_count": null,
   "metadata": {
    "execution": {
     "iopub.execute_input": "2024-02-19T19:42:55.436243Z",
     "iopub.status.busy": "2024-02-19T19:42:55.435921Z",
     "iopub.status.idle": "2024-02-19T19:42:55.477637Z",
     "shell.execute_reply": "2024-02-19T19:42:55.476709Z",
     "shell.execute_reply.started": "2024-02-19T19:42:55.436182Z"
    }
   },
   "outputs": [],
   "source": [
    "df.head().T"
   ]
  },
  {
   "cell_type": "markdown",
   "metadata": {},
   "source": [
    "* Encoding the outcome variable: The outcome we are looking at is whether the patient gets readmitted to the hospital within 30 days or not. The variable actually has < 30, > 30 and No Readmission categories. To reduce our problem to a binary classification, we combined the readmission after 30 days and no readmission into a single category:"
   ]
  },
  {
   "cell_type": "code",
   "execution_count": null,
   "metadata": {
    "execution": {
     "iopub.execute_input": "2024-02-19T19:42:55.479815Z",
     "iopub.status.busy": "2024-02-19T19:42:55.479489Z",
     "iopub.status.idle": "2024-02-19T19:42:55.525779Z",
     "shell.execute_reply": "2024-02-19T19:42:55.524598Z",
     "shell.execute_reply.started": "2024-02-19T19:42:55.479752Z"
    }
   },
   "outputs": [],
   "source": [
    "df['readmitted'].value_counts()"
   ]
  },
  {
   "cell_type": "code",
   "execution_count": null,
   "metadata": {
    "execution": {
     "iopub.execute_input": "2024-02-19T19:42:55.527380Z",
     "iopub.status.busy": "2024-02-19T19:42:55.527097Z",
     "iopub.status.idle": "2024-02-19T19:42:55.605312Z",
     "shell.execute_reply": "2024-02-19T19:42:55.604333Z",
     "shell.execute_reply.started": "2024-02-19T19:42:55.527322Z"
    }
   },
   "outputs": [],
   "source": [
    "df['readmitted'] = df['readmitted'].replace('>30', 0)\n",
    "df['readmitted'] = df['readmitted'].replace('<30', 1)\n",
    "df['readmitted'] = df['readmitted'].replace('NO', 0)"
   ]
  },
  {
   "cell_type": "markdown",
   "metadata": {},
   "source": [
    "* Categorization of diagnoses: The dataset contained up to three diagnoses for a given patient (primary, secondary and additional). However, each of these had 700–900 unique ICD codes and it is extremely difficult to include them in the model and interpret meaningfully. Therefore, we collapsed these diagnosis codes into 9 disease categories in an almost similar fashion to that done in the original publication using this dataset. These 9 categories include Circulatory, Respiratory, Digestive, Diabetes, Injury, Musculoskeletal, Genitourinary, Neoplasms, and Others. Although we did this for primary, secondary and additional diagnoses, we eventually decided to use only the primary diagnosis in our model. Doing this in python was slightly cumbersome because, well, we are mapping the disease codes to certain category names. Below code should demonstrate this easily."
   ]
  },
  {
   "cell_type": "code",
   "execution_count": null,
   "metadata": {
    "execution": {
     "iopub.execute_input": "2024-02-19T19:42:55.606864Z",
     "iopub.status.busy": "2024-02-19T19:42:55.606589Z",
     "iopub.status.idle": "2024-02-19T19:42:55.622290Z",
     "shell.execute_reply": "2024-02-19T19:42:55.621016Z",
     "shell.execute_reply.started": "2024-02-19T19:42:55.606817Z"
    }
   },
   "outputs": [],
   "source": [
    "# Creating additional columns for diagnosis# Creati \n",
    "df['level1_diag1'] = df['diag_1']\n",
    "df['level2_diag1'] = df['diag_1']\n",
    "df['level1_diag2'] = df['diag_2']\n",
    "df['level2_diag2'] = df['diag_2']\n",
    "df['level1_diag3'] = df['diag_3']\n",
    "df['level2_diag3'] = df['diag_3']"
   ]
  },
  {
   "cell_type": "code",
   "execution_count": null,
   "metadata": {
    "execution": {
     "iopub.execute_input": "2024-02-19T19:42:55.624502Z",
     "iopub.status.busy": "2024-02-19T19:42:55.624121Z",
     "iopub.status.idle": "2024-02-19T19:42:56.308111Z",
     "shell.execute_reply": "2024-02-19T19:42:56.306705Z",
     "shell.execute_reply.started": "2024-02-19T19:42:55.624428Z"
    }
   },
   "outputs": [],
   "source": [
    "df.loc[df['diag_1'].str.contains('V'), ['level1_diag1', 'level2_diag1']] = 0\n",
    "df.loc[df['diag_1'].str.contains('E'), ['level1_diag1', 'level2_diag1']] = 0\n",
    "df.loc[df['diag_2'].str.contains('V'), ['level1_diag2', 'level2_diag2']] = 0\n",
    "df.loc[df['diag_2'].str.contains('E'), ['level1_diag2', 'level2_diag2']] = 0\n",
    "df.loc[df['diag_3'].str.contains('V'), ['level1_diag3', 'level2_diag3']] = 0\n",
    "df.loc[df['diag_3'].str.contains('E'), ['level1_diag3', 'level2_diag3']] = 0\n",
    "df['level1_diag1'] = df['level1_diag1'].replace('?', -1)\n",
    "df['level2_diag1'] = df['level2_diag1'].replace('?', -1)\n",
    "df['level1_diag2'] = df['level1_diag2'].replace('?', -1)\n",
    "df['level2_diag2'] = df['level2_diag2'].replace('?', -1)\n",
    "df['level1_diag3'] = df['level1_diag3'].replace('?', -1)\n",
    "df['level2_diag3'] = df['level2_diag3'].replace('?', -1)"
   ]
  },
  {
   "cell_type": "code",
   "execution_count": null,
   "metadata": {
    "execution": {
     "iopub.execute_input": "2024-02-19T19:42:56.310314Z",
     "iopub.status.busy": "2024-02-19T19:42:56.309923Z",
     "iopub.status.idle": "2024-02-19T19:42:56.453697Z",
     "shell.execute_reply": "2024-02-19T19:42:56.452642Z",
     "shell.execute_reply.started": "2024-02-19T19:42:56.310250Z"
    }
   },
   "outputs": [],
   "source": [
    "df['level1_diag1'] = df['level1_diag1'].astype(float)\n",
    "df['level2_diag1'] = df['level2_diag1'].astype(float)\n",
    "df['level1_diag2'] = df['level1_diag2'].astype(float)\n",
    "df['level2_diag2'] = df['level2_diag2'].astype(float)\n",
    "df['level1_diag3'] = df['level1_diag3'].astype(float)\n",
    "df['level2_diag3'] = df['level2_diag3'].astype(float)"
   ]
  },
  {
   "cell_type": "code",
   "execution_count": null,
   "metadata": {
    "execution": {
     "iopub.execute_input": "2024-02-19T19:42:56.455937Z",
     "iopub.status.busy": "2024-02-19T19:42:56.455550Z",
     "iopub.status.idle": "2024-02-19T19:47:34.258425Z",
     "shell.execute_reply": "2024-02-19T19:47:34.257531Z",
     "shell.execute_reply.started": "2024-02-19T19:42:56.455863Z"
    }
   },
   "outputs": [],
   "source": [
    "for index, row in df.iterrows():\n",
    "    if (row['level1_diag1'] >= 390 and row['level1_diag1'] < 460) or (np.floor(row['level1_diag1']) == 785):\n",
    "        df.loc[index, 'level1_diag1'] = 1\n",
    "    elif (row['level1_diag1'] >= 460 and row['level1_diag1'] < 520) or (np.floor(row['level1_diag1']) == 786):\n",
    "        df.loc[index, 'level1_diag1'] = 2\n",
    "    elif (row['level1_diag1'] >= 520 and row['level1_diag1'] < 580) or (np.floor(row['level1_diag1']) == 787):\n",
    "        df.loc[index, 'level1_diag1'] = 3\n",
    "    elif (np.floor(row['level1_diag1']) == 250):\n",
    "        df.loc[index, 'level1_diag1'] = 4\n",
    "    elif (row['level1_diag1'] >= 800 and row['level1_diag1'] < 1000):\n",
    "        df.loc[index, 'level1_diag1'] = 5\n",
    "    elif (row['level1_diag1'] >= 710 and row['level1_diag1'] < 740):\n",
    "        df.loc[index, 'level1_diag1'] = 6\n",
    "    elif (row['level1_diag1'] >= 580 and row['level1_diag1'] < 630) or (np.floor(row['level1_diag1']) == 788):\n",
    "        df.loc[index, 'level1_diag1'] = 7\n",
    "    elif (row['level1_diag1'] >= 140 and row['level1_diag1'] < 240):\n",
    "        df.loc[index, 'level1_diag1'] = 8\n",
    "    else:\n",
    "        df.loc[index, 'level1_diag1'] = 0\n",
    "        \n",
    "    if (row['level1_diag2'] >= 390 and row['level1_diag2'] < 460) or (np.floor(row['level1_diag2']) == 785):\n",
    "        df.loc[index, 'level1_diag2'] = 1\n",
    "    elif (row['level1_diag2'] >= 460 and row['level1_diag2'] < 520) or (np.floor(row['level1_diag2']) == 786):\n",
    "        df.loc[index, 'level1_diag2'] = 2\n",
    "    elif (row['level1_diag2'] >= 520 and row['level1_diag2'] < 580) or (np.floor(row['level1_diag2']) == 787):\n",
    "        df.loc[index, 'level1_diag2'] = 3\n",
    "    elif (np.floor(row['level1_diag2']) == 250):\n",
    "        df.loc[index, 'level1_diag2'] = 4\n",
    "    elif (row['level1_diag2'] >= 800 and row['level1_diag2'] < 1000):\n",
    "        df.loc[index, 'level1_diag2'] = 5\n",
    "    elif (row['level1_diag2'] >= 710 and row['level1_diag2'] < 740):\n",
    "        df.loc[index, 'level1_diag2'] = 6\n",
    "    elif (row['level1_diag2'] >= 580 and row['level1_diag2'] < 630) or (np.floor(row['level1_diag2']) == 788):\n",
    "        df.loc[index, 'level1_diag2'] = 7\n",
    "    elif (row['level1_diag2'] >= 140 and row['level1_diag2'] < 240):\n",
    "        df.loc[index, 'level1_diag2'] = 8\n",
    "    else:\n",
    "        df.loc[index, 'level1_diag2'] = 0\n",
    "    \n",
    "    if (row['level1_diag3'] >= 390 and row['level1_diag3'] < 460) or (np.floor(row['level1_diag3']) == 785):\n",
    "        df.loc[index, 'level1_diag3'] = 1\n",
    "    elif (row['level1_diag3'] >= 460 and row['level1_diag3'] < 520) or (np.floor(row['level1_diag3']) == 786):\n",
    "        df.loc[index, 'level1_diag3'] = 2\n",
    "    elif (row['level1_diag3'] >= 520 and row['level1_diag3'] < 580) or (np.floor(row['level1_diag3']) == 787):\n",
    "        df.loc[index, 'level1_diag3'] = 3\n",
    "    elif (np.floor(row['level1_diag3']) == 250):\n",
    "        df.loc[index, 'level1_diag3'] = 4\n",
    "    elif (row['level1_diag3'] >= 800 and row['level1_diag3'] < 1000):\n",
    "        df.loc[index, 'level1_diag3'] = 5\n",
    "    elif (row['level1_diag3'] >= 710 and row['level1_diag3'] < 740):\n",
    "        df.loc[index, 'level1_diag3'] = 6\n",
    "    elif (row['level1_diag3'] >= 580 and row['level1_diag3'] < 630) or (np.floor(row['level1_diag3']) == 788):\n",
    "        df.loc[index, 'level1_diag3'] = 7\n",
    "    elif (row['level1_diag3'] >= 140 and row['level1_diag3'] < 240):\n",
    "        df.loc[index, 'level1_diag3'] = 8\n",
    "    else:\n",
    "        df.loc[index, 'level1_diag3'] = 0\n"
   ]
  },
  {
   "cell_type": "code",
   "execution_count": null,
   "metadata": {
    "execution": {
     "iopub.execute_input": "2024-02-19T19:47:34.260146Z",
     "iopub.status.busy": "2024-02-19T19:47:34.259731Z",
     "iopub.status.idle": "2024-02-19T19:52:49.598245Z",
     "shell.execute_reply": "2024-02-19T19:52:49.597321Z",
     "shell.execute_reply.started": "2024-02-19T19:47:34.260099Z"
    }
   },
   "outputs": [],
   "source": [
    "for index, row in df.iterrows():\n",
    "    if (row['level2_diag1'] >= 390 and row['level2_diag1'] < 399):\n",
    "        df.loc[index, 'level2_diag1'] = 1\n",
    "    elif (row['level2_diag1'] >= 401 and row['level2_diag1'] < 415):\n",
    "        df.loc[index, 'level2_diag1'] = 2\n",
    "    elif (row['level2_diag1'] >= 415 and row['level2_diag1'] < 460):\n",
    "        df.loc[index, 'level2_diag1'] = 3\n",
    "    elif (np.floor(row['level2_diag1']) == 785):\n",
    "        df.loc[index, 'level2_diag1'] = 4\n",
    "    elif (row['level2_diag1'] >= 460 and row['level2_diag1'] < 489):\n",
    "        df.loc[index, 'level2_diag1'] = 5\n",
    "    elif (row['level2_diag1'] >= 490 and row['level2_diag1'] < 497):\n",
    "        df.loc[index, 'level2_diag1'] = 6\n",
    "    elif (row['level2_diag1'] >= 500 and row['level2_diag1'] < 520):\n",
    "        df.loc[index, 'level2_diag1'] = 7\n",
    "    elif (np.floor(row['level2_diag1']) == 786):\n",
    "        df.loc[index, 'level2_diag1'] = 8\n",
    "    elif (row['level2_diag1'] >= 520 and row['level2_diag1'] < 530):\n",
    "        df.loc[index, 'level2_diag1'] = 9\n",
    "    elif (row['level2_diag1'] >= 530 and row['level2_diag1'] < 544):\n",
    "        df.loc[index, 'level2_diag1'] = 10\n",
    "    elif (row['level2_diag1'] >= 550 and row['level2_diag1'] < 554):\n",
    "        df.loc[index, 'level2_diag1'] = 11\n",
    "    elif (row['level2_diag1'] >= 555 and row['level2_diag1'] < 580):\n",
    "        df.loc[index, 'level2_diag1'] = 12\n",
    "    elif (np.floor(row['level2_diag1']) == 787):\n",
    "        df.loc[index, 'level2_diag1'] = 13\n",
    "    elif (np.floor(row['level2_diag1']) == 250):\n",
    "        df.loc[index, 'level2_diag1'] = 14\n",
    "    elif (row['level2_diag1'] >= 800 and row['level2_diag1'] < 1000):\n",
    "        df.loc[index, 'level2_diag1'] = 15\n",
    "    elif (row['level2_diag1'] >= 710 and row['level2_diag1'] < 740):\n",
    "        df.loc[index, 'level2_diag1'] = 16\n",
    "    elif (row['level2_diag1'] >= 580 and row['level2_diag1'] < 630):\n",
    "        df.loc[index, 'level2_diag1'] = 17\n",
    "    elif (np.floor(row['level2_diag1']) == 788):\n",
    "        df.loc[index, 'level2_diag1'] = 18\n",
    "    elif (row['level2_diag1'] >= 140 and row['level2_diag1'] < 240):\n",
    "        df.loc[index, 'level2_diag1'] = 19\n",
    "    elif row['level2_diag1'] >= 240 and row['level2_diag1'] < 280 and (np.floor(row['level2_diag1']) != 250):\n",
    "        df.loc[index, 'level2_diag1'] = 20\n",
    "    elif (row['level2_diag1'] >= 680 and row['level2_diag1'] < 710) or (np.floor(row['level2_diag1']) == 782):\n",
    "        df.loc[index, 'level2_diag1'] = 21\n",
    "    elif (row['level2_diag1'] >= 290 and row['level2_diag1'] < 320):\n",
    "        df.loc[index, 'level2_diag1'] = 22\n",
    "    else:\n",
    "        df.loc[index, 'level2_diag1'] = 0\n",
    "        \n",
    "    if (row['level2_diag2'] >= 390 and row['level2_diag2'] < 399):\n",
    "        df.loc[index, 'level2_diag2'] = 1\n",
    "    elif (row['level2_diag2'] >= 401 and row['level2_diag2'] < 415):\n",
    "        df.loc[index, 'level2_diag2'] = 2\n",
    "    elif (row['level2_diag2'] >= 415 and row['level2_diag2'] < 460):\n",
    "        df.loc[index, 'level2_diag2'] = 3\n",
    "    elif (np.floor(row['level2_diag2']) == 785):\n",
    "        df.loc[index, 'level2_diag2'] = 4\n",
    "    elif (row['level2_diag2'] >= 460 and row['level2_diag2'] < 489):\n",
    "        df.loc[index, 'level2_diag2'] = 5\n",
    "    elif (row['level2_diag2'] >= 490 and row['level2_diag2'] < 497):\n",
    "        df.loc[index, 'level2_diag2'] = 6\n",
    "    elif (row['level2_diag2'] >= 500 and row['level2_diag2'] < 520):\n",
    "        df.loc[index, 'level2_diag2'] = 7\n",
    "    elif (np.floor(row['level2_diag2']) == 786):\n",
    "        df.loc[index, 'level2_diag2'] = 8\n",
    "    elif (row['level2_diag2'] >= 520 and row['level2_diag2'] < 530):\n",
    "        df.loc[index, 'level2_diag2'] = 9\n",
    "    elif (row['level2_diag2'] >= 530 and row['level2_diag2'] < 544):\n",
    "        df.loc[index, 'level2_diag2'] = 10\n",
    "    elif (row['level2_diag2'] >= 550 and row['level2_diag2'] < 554):\n",
    "        df.loc[index, 'level2_diag2'] = 11\n",
    "    elif (row['level2_diag2'] >= 555 and row['level2_diag2'] < 580):\n",
    "        df.loc[index, 'level2_diag2'] = 12\n",
    "    elif (np.floor(row['level2_diag2']) == 787):\n",
    "        df.loc[index, 'level2_diag2'] = 13\n",
    "    elif (np.floor(row['level2_diag2']) == 250):\n",
    "        df.loc[index, 'level2_diag2'] = 14\n",
    "    elif (row['level2_diag2'] >= 800 and row['level2_diag2'] < 1000):\n",
    "        df.loc[index, 'level2_diag2'] = 15\n",
    "    elif (row['level2_diag2'] >= 710 and row['level2_diag2'] < 740):\n",
    "        df.loc[index, 'level2_diag2'] = 16\n",
    "    elif (row['level2_diag2'] >= 580 and row['level2_diag2'] < 630):\n",
    "        df.loc[index, 'level2_diag2'] = 17\n",
    "    elif (np.floor(row['level2_diag2']) == 788):\n",
    "        df.loc[index, 'level2_diag2'] = 18\n",
    "    elif (row['level2_diag2'] >= 140 and row['level2_diag2'] < 240):\n",
    "        df.loc[index, 'level2_diag2'] = 19\n",
    "    elif row['level2_diag2'] >= 240 and row['level2_diag2'] < 280 and (np.floor(row['level2_diag2']) != 250):\n",
    "        df.loc[index, 'level2_diag2'] = 20\n",
    "    elif (row['level2_diag2'] >= 680 and row['level2_diag2'] < 710) or (np.floor(row['level2_diag2']) == 782):\n",
    "        df.loc[index, 'level2_diag2'] = 21\n",
    "    elif (row['level2_diag2'] >= 290 and row['level2_diag2'] < 320):\n",
    "        df.loc[index, 'level2_diag2'] = 22\n",
    "    else:\n",
    "        df.loc[index, 'level2_diag2'] = 0\n",
    "        \n",
    "        \n",
    "    if (row['level2_diag3'] >= 390 and row['level2_diag3'] < 399):\n",
    "        df.loc[index, 'level2_diag3'] = 1\n",
    "    elif (row['level2_diag3'] >= 401 and row['level2_diag3'] < 415):\n",
    "        df.loc[index, 'level2_diag3'] = 2\n",
    "    elif (row['level2_diag3'] >= 415 and row['level2_diag3'] < 460):\n",
    "        df.loc[index, 'level2_diag3'] = 3\n",
    "    elif (np.floor(row['level2_diag3']) == 785):\n",
    "        df.loc[index, 'level2_diag3'] = 4\n",
    "    elif (row['level2_diag3'] >= 460 and row['level2_diag3'] < 489):\n",
    "        df.loc[index, 'level2_diag3'] = 5\n",
    "    elif (row['level2_diag3'] >= 490 and row['level2_diag3'] < 497):\n",
    "        df.loc[index, 'level2_diag3'] = 6\n",
    "    elif (row['level2_diag3'] >= 500 and row['level2_diag3'] < 520):\n",
    "        df.loc[index, 'level2_diag3'] = 7\n",
    "    elif (np.floor(row['level2_diag3']) == 786):\n",
    "        df.loc[index, 'level2_diag3'] = 8\n",
    "    elif (row['level2_diag3'] >= 520 and row['level2_diag3'] < 530):\n",
    "        df.loc[index, 'level2_diag3'] = 9\n",
    "    elif (row['level2_diag3'] >= 530 and row['level2_diag3'] < 544):\n",
    "        df.loc[index, 'level2_diag3'] = 10\n",
    "    elif (row['level2_diag3'] >= 550 and row['level2_diag3'] < 554):\n",
    "        df.loc[index, 'level2_diag3'] = 11\n",
    "    elif (row['level2_diag3'] >= 555 and row['level2_diag3'] < 580):\n",
    "        df.loc[index, 'level2_diag3'] = 12\n",
    "    elif (np.floor(row['level2_diag3']) == 787):\n",
    "        df.loc[index, 'level2_diag3'] = 13\n",
    "    elif (np.floor(row['level2_diag3']) == 250):\n",
    "        df.loc[index, 'level2_diag3'] = 14\n",
    "    elif (row['level2_diag3'] >= 800 and row['level2_diag3'] < 1000):\n",
    "        df.loc[index, 'level2_diag3'] = 15\n",
    "    elif (row['level2_diag3'] >= 710 and row['level2_diag3'] < 740):\n",
    "        df.loc[index, 'level2_diag3'] = 16\n",
    "    elif (row['level2_diag3'] >= 580 and row['level2_diag3'] < 630):\n",
    "        df.loc[index, 'level2_diag3'] = 17\n",
    "    elif (np.floor(row['level2_diag3']) == 788):\n",
    "        df.loc[index, 'level2_diag3'] = 18\n",
    "    elif (row['level2_diag3'] >= 140 and row['level2_diag3'] < 240):\n",
    "        df.loc[index, 'level2_diag3'] = 19\n",
    "    elif row['level2_diag3'] >= 240 and row['level2_diag3'] < 280 and (np.floor(row['level2_diag3']) != 250):\n",
    "        df.loc[index, 'level2_diag3'] = 20\n",
    "    elif (row['level2_diag3'] >= 680 and row['level2_diag3'] < 710) or (np.floor(row['level2_diag3']) == 782):\n",
    "        df.loc[index, 'level2_diag3'] = 21\n",
    "    elif (row['level2_diag3'] >= 290 and row['level2_diag3'] < 320):\n",
    "        df.loc[index, 'level2_diag3'] = 22\n",
    "    else:\n",
    "        df.loc[index, 'level2_diag3'] = 0"
   ]
  },
  {
   "cell_type": "markdown",
   "metadata": {},
   "source": [
    "## Data Visualization"
   ]
  },
  {
   "cell_type": "markdown",
   "metadata": {},
   "source": [
    "#### Distribution of Readmission\n",
    "Our target variable is imbalance. Number of readmitted patient are quite less as compared to Not readmitted"
   ]
  },
  {
   "cell_type": "code",
   "execution_count": null,
   "metadata": {
    "execution": {
     "iopub.execute_input": "2024-02-19T19:52:49.600468Z",
     "iopub.status.busy": "2024-02-19T19:52:49.600051Z",
     "iopub.status.idle": "2024-02-19T19:52:49.967255Z",
     "shell.execute_reply": "2024-02-19T19:52:49.965889Z",
     "shell.execute_reply.started": "2024-02-19T19:52:49.600388Z"
    }
   },
   "outputs": [],
   "source": [
    "# Distribution of Readmission \n",
    "sns.countplot(df['readmitted']).set_title('Distrinution of Readmission')"
   ]
  },
  {
   "cell_type": "markdown",
   "metadata": {},
   "source": [
    "#### Time in Hospital and Readmission\n"
   ]
  },
  {
   "cell_type": "code",
   "execution_count": null,
   "metadata": {
    "execution": {
     "iopub.execute_input": "2024-02-19T19:52:49.970160Z",
     "iopub.status.busy": "2024-02-19T19:52:49.969390Z",
     "iopub.status.idle": "2024-02-19T19:52:50.561767Z",
     "shell.execute_reply": "2024-02-19T19:52:50.560696Z",
     "shell.execute_reply.started": "2024-02-19T19:52:49.970080Z"
    }
   },
   "outputs": [],
   "source": [
    "fig = plt.figure(figsize=(13,7),)\n",
    "ax=sns.kdeplot(df.loc[(df['readmitted'] == 0),'time_in_hospital'] , color='b',shade=True,label='Not Readmitted')\n",
    "ax=sns.kdeplot(df.loc[(df['readmitted'] == 1),'time_in_hospital'] , color='r',shade=True, label='Readmitted')\n",
    "ax.set(xlabel='Time in Hospital', ylabel='Frequency')\n",
    "plt.title('Time in Hospital VS. Readmission')"
   ]
  },
  {
   "cell_type": "markdown",
   "metadata": {},
   "source": [
    "#### Age and Readmission"
   ]
  },
  {
   "cell_type": "code",
   "execution_count": null,
   "metadata": {
    "execution": {
     "iopub.execute_input": "2024-02-19T19:52:50.564169Z",
     "iopub.status.busy": "2024-02-19T19:52:50.563752Z",
     "iopub.status.idle": "2024-02-19T19:52:51.262518Z",
     "shell.execute_reply": "2024-02-19T19:52:51.261472Z",
     "shell.execute_reply.started": "2024-02-19T19:52:50.564088Z"
    }
   },
   "outputs": [],
   "source": [
    "fig = plt.figure(figsize=(15,10))\n",
    "sns.countplot(y= df['age'], hue = df['readmitted']).set_title('Age of Patient VS. Readmission')"
   ]
  },
  {
   "cell_type": "markdown",
   "metadata": {},
   "source": [
    "#### Ethnicity of patient and Readmission"
   ]
  },
  {
   "cell_type": "code",
   "execution_count": null,
   "metadata": {
    "execution": {
     "iopub.execute_input": "2024-02-19T19:52:51.264901Z",
     "iopub.status.busy": "2024-02-19T19:52:51.264210Z",
     "iopub.status.idle": "2024-02-19T19:52:51.797037Z",
     "shell.execute_reply": "2024-02-19T19:52:51.796326Z",
     "shell.execute_reply.started": "2024-02-19T19:52:51.264833Z"
    }
   },
   "outputs": [],
   "source": [
    "fig = plt.figure(figsize=(8,8))\n",
    "sns.countplot(y = df['race'], hue = df['readmitted'])"
   ]
  },
  {
   "cell_type": "markdown",
   "metadata": {},
   "source": [
    "#### Number of medication used and Readmission"
   ]
  },
  {
   "cell_type": "code",
   "execution_count": null,
   "metadata": {
    "execution": {
     "iopub.execute_input": "2024-02-19T19:52:51.798705Z",
     "iopub.status.busy": "2024-02-19T19:52:51.798242Z",
     "iopub.status.idle": "2024-02-19T19:52:54.296838Z",
     "shell.execute_reply": "2024-02-19T19:52:54.295760Z",
     "shell.execute_reply.started": "2024-02-19T19:52:51.798658Z"
    }
   },
   "outputs": [],
   "source": [
    "fig = plt.figure(figsize=(8,8))\n",
    "sns.barplot(x = df['readmitted'], y = df['num_medications']).set_title(\"Number of medication used VS. Readmission\")"
   ]
  },
  {
   "cell_type": "markdown",
   "metadata": {},
   "source": [
    "#### Gender and Readmission\n",
    "* Male = 1\n",
    "* Female = 0"
   ]
  },
  {
   "cell_type": "code",
   "execution_count": null,
   "metadata": {
    "execution": {
     "iopub.execute_input": "2024-02-19T19:52:54.299227Z",
     "iopub.status.busy": "2024-02-19T19:52:54.298587Z",
     "iopub.status.idle": "2024-02-19T19:52:54.744689Z",
     "shell.execute_reply": "2024-02-19T19:52:54.743661Z",
     "shell.execute_reply.started": "2024-02-19T19:52:54.299155Z"
    }
   },
   "outputs": [],
   "source": [
    "fig = plt.figure(figsize=(8,8))\n",
    "sns.countplot(df['gender'], hue = df['readmitted']).set_title(\"Gender of Patient VS. Readmission\")"
   ]
  },
  {
   "cell_type": "markdown",
   "metadata": {},
   "source": [
    "#### Change of Medication and Readmission\n",
    "* Change = 1\n",
    "* No Change = 0"
   ]
  },
  {
   "cell_type": "code",
   "execution_count": null,
   "metadata": {
    "execution": {
     "iopub.execute_input": "2024-02-19T19:52:54.746329Z",
     "iopub.status.busy": "2024-02-19T19:52:54.746063Z",
     "iopub.status.idle": "2024-02-19T19:52:55.186242Z",
     "shell.execute_reply": "2024-02-19T19:52:55.185253Z",
     "shell.execute_reply.started": "2024-02-19T19:52:54.746283Z"
    }
   },
   "outputs": [],
   "source": [
    "fig = plt.figure(figsize=(8,8))\n",
    "sns.countplot(df['change'], hue = df['readmitted']).set_title('Change of Medication VS. Readmission')"
   ]
  },
  {
   "cell_type": "markdown",
   "metadata": {},
   "source": [
    "#### Diabetes Medication prescribed and Readmission\n",
    "* Diabetes Medication - medications Nominal Indicates if there was any diabetic medication prescribed.\n",
    "* Values: “yes” : 1 “no” : 0"
   ]
  },
  {
   "cell_type": "code",
   "execution_count": null,
   "metadata": {
    "execution": {
     "iopub.execute_input": "2024-02-19T19:52:55.188460Z",
     "iopub.status.busy": "2024-02-19T19:52:55.188106Z",
     "iopub.status.idle": "2024-02-19T19:52:55.665465Z",
     "shell.execute_reply": "2024-02-19T19:52:55.664621Z",
     "shell.execute_reply.started": "2024-02-19T19:52:55.188381Z"
    }
   },
   "outputs": [],
   "source": [
    "fig = plt.figure(figsize=(8,8))\n",
    "sns.countplot(df['diabetesMed'], hue = df['readmitted']).set_title('Diabetes Medication prescribed VS Readmission')"
   ]
  },
  {
   "cell_type": "markdown",
   "metadata": {},
   "source": [
    "#### Service Utilization and Readmission\n"
   ]
  },
  {
   "cell_type": "code",
   "execution_count": null,
   "metadata": {
    "execution": {
     "iopub.execute_input": "2024-02-19T19:52:55.666977Z",
     "iopub.status.busy": "2024-02-19T19:52:55.666732Z",
     "iopub.status.idle": "2024-02-19T19:52:58.181239Z",
     "shell.execute_reply": "2024-02-19T19:52:58.180290Z",
     "shell.execute_reply.started": "2024-02-19T19:52:55.666938Z"
    }
   },
   "outputs": [],
   "source": [
    "fig = plt.figure(figsize=(8,8))\n",
    "sns.barplot( y = df['service_utilization'], x = df['readmitted']).set_title('Service Utilization VS. Readmission')"
   ]
  },
  {
   "cell_type": "markdown",
   "metadata": {},
   "source": [
    "#### Glucose serum test result and Readmission\n",
    "*Glucose Serum test* - A blood glucose test is used to find out if your blood sugar levels are in the healthy range. It is often used to help diagnose and monitor diabetes.\n",
    "\n",
    "* '>200' : 1 = indicates diabetes\n",
    "* '>300' : 1 = Indicates diabetes\n",
    "* 'Norm' : 0 = Normal\n",
    "* 'None' : -99 = test was not taken"
   ]
  },
  {
   "cell_type": "code",
   "execution_count": null,
   "metadata": {
    "execution": {
     "iopub.execute_input": "2024-02-19T19:52:58.182973Z",
     "iopub.status.busy": "2024-02-19T19:52:58.182710Z",
     "iopub.status.idle": "2024-02-19T19:52:58.677175Z",
     "shell.execute_reply": "2024-02-19T19:52:58.676180Z",
     "shell.execute_reply.started": "2024-02-19T19:52:58.182928Z"
    }
   },
   "outputs": [],
   "source": [
    "fig = plt.figure(figsize=(8,8))\n",
    "sns.countplot(y = df['max_glu_serum'], hue = df['readmitted']).set_title('Glucose test serum test result VS. Readmission')"
   ]
  },
  {
   "cell_type": "markdown",
   "metadata": {},
   "source": [
    "A1C result and Readmission\n",
    "*A1C test* - The A1C test is a blood test that provides information about your average levels of blood glucose, also called blood sugar, over the past 3 months.\n",
    "*  '>7'   :  1   \n",
    "*  '>8'   :  1   \n",
    "*    Norm :  0  = Normal \n",
    "*    None : -99 = Test was not taken"
   ]
  },
  {
   "cell_type": "code",
   "execution_count": null,
   "metadata": {
    "execution": {
     "iopub.execute_input": "2024-02-19T19:52:58.679499Z",
     "iopub.status.busy": "2024-02-19T19:52:58.678834Z",
     "iopub.status.idle": "2024-02-19T19:52:59.244463Z",
     "shell.execute_reply": "2024-02-19T19:52:59.243479Z",
     "shell.execute_reply.started": "2024-02-19T19:52:58.679434Z"
    }
   },
   "outputs": [],
   "source": [
    "fig = plt.figure(figsize=(8,8))\n",
    "sns.countplot(y= df['A1Cresult'], hue = df['readmitted']).set_title('A1C test result VS. Readmission')"
   ]
  },
  {
   "cell_type": "markdown",
   "metadata": {},
   "source": [
    "#### Number of lab procedure and Readmission"
   ]
  },
  {
   "cell_type": "code",
   "execution_count": null,
   "metadata": {
    "execution": {
     "iopub.execute_input": "2024-02-19T19:52:59.246425Z",
     "iopub.status.busy": "2024-02-19T19:52:59.246042Z",
     "iopub.status.idle": "2024-02-19T19:52:59.820464Z",
     "shell.execute_reply": "2024-02-19T19:52:59.819497Z",
     "shell.execute_reply.started": "2024-02-19T19:52:59.246338Z"
    }
   },
   "outputs": [],
   "source": [
    "fig = plt.figure(figsize=(15,6),)\n",
    "ax=sns.kdeplot(df.loc[(df['readmitted'] == 0),'num_lab_procedures'] , color='b',shade=True,label='Not readmitted')\n",
    "ax=sns.kdeplot(df.loc[(df['readmitted'] == 1),'num_lab_procedures'] , color='r',shade=True, label='readmitted')\n",
    "ax.set(xlabel='Number of lab procedure', ylabel='Frequency')\n",
    "plt.title('Number of lab procedure VS. Readmission')"
   ]
  },
  {
   "cell_type": "markdown",
   "metadata": {},
   "source": [
    "### Pre-Modeling Data Preprocessing\n",
    "This code converts age as categorical variable to a continuous approximation by assuming mid-point of each age-category as the actual age value. This is done to avoid having to deal with age as a dummy variable in the models which makes interpretation very cumbersome. Also, since age category is not purely nominal but ordinal, we do not want to lose that information by treating it as a simple categorical variable"
   ]
  },
  {
   "cell_type": "code",
   "execution_count": null,
   "metadata": {
    "execution": {
     "iopub.execute_input": "2024-02-19T19:52:59.822230Z",
     "iopub.status.busy": "2024-02-19T19:52:59.821935Z",
     "iopub.status.idle": "2024-02-19T19:52:59.837134Z",
     "shell.execute_reply": "2024-02-19T19:52:59.836306Z",
     "shell.execute_reply.started": "2024-02-19T19:52:59.822173Z"
    }
   },
   "outputs": [],
   "source": [
    "df['age'] = df['age'].astype('int64')\n",
    "print(df.age.value_counts())\n",
    "# convert age categories to mid-point values\n",
    "age_dict = {1:5, 2:15, 3:25, 4:35, 5:45, 6:55, 7:65, 8:75, 9:85, 10:95}\n",
    "df['age'] = df.age.map(age_dict)\n",
    "print(df.age.value_counts())"
   ]
  },
  {
   "cell_type": "code",
   "execution_count": null,
   "metadata": {
    "execution": {
     "iopub.execute_input": "2024-02-19T19:52:59.838744Z",
     "iopub.status.busy": "2024-02-19T19:52:59.838479Z",
     "iopub.status.idle": "2024-02-19T19:53:00.484210Z",
     "shell.execute_reply": "2024-02-19T19:53:00.483441Z",
     "shell.execute_reply.started": "2024-02-19T19:52:59.838699Z"
    }
   },
   "outputs": [],
   "source": [
    "# convert data type of nominal features in dataframe to 'object' type\n",
    "i = ['encounter_id', 'patient_nbr', 'gender', 'admission_type_id', 'discharge_disposition_id', 'admission_source_id',\\\n",
    "          'A1Cresult', 'metformin', 'repaglinide', 'nateglinide', 'chlorpropamide', 'glimepiride', 'acetohexamide', \\\n",
    "          'glipizide', 'glyburide', 'tolbutamide', 'pioglitazone', 'rosiglitazone', 'acarbose','miglitol', \\\n",
    "          'troglitazone', 'tolazamide', 'insulin', 'glyburide-metformin', 'glipizide-metformin', \\\n",
    "          'glimepiride-pioglitazone', 'metformin-rosiglitazone', 'metformin-pioglitazone', 'change', 'diabetesMed', \\\n",
    "          'age', 'A1Cresult', 'max_glu_serum', 'level1_diag1', 'level1_diag2', 'level1_diag3', 'level2_diag1', 'level2_diag2', 'level2_diag3']\n",
    "\n",
    "df[i] = df[i].astype('object')"
   ]
  },
  {
   "cell_type": "code",
   "execution_count": null,
   "metadata": {
    "execution": {
     "iopub.execute_input": "2024-02-19T19:53:00.485659Z",
     "iopub.status.busy": "2024-02-19T19:53:00.485383Z",
     "iopub.status.idle": "2024-02-19T19:53:00.495825Z",
     "shell.execute_reply": "2024-02-19T19:53:00.494757Z",
     "shell.execute_reply.started": "2024-02-19T19:53:00.485610Z"
    }
   },
   "outputs": [],
   "source": [
    "df.dtypes"
   ]
  },
  {
   "cell_type": "markdown",
   "metadata": {},
   "source": [
    "* Number of medication used: Another possibly related factor could be the total number of medications used by the patient (which may indicate severity of their condition and/or the intensity of care). So we created another feature by counting the medications used during the encounter (keys variable in code below is continued from above):"
   ]
  },
  {
   "cell_type": "code",
   "execution_count": null,
   "metadata": {
    "execution": {
     "iopub.execute_input": "2024-02-19T19:53:00.497904Z",
     "iopub.status.busy": "2024-02-19T19:53:00.497540Z",
     "iopub.status.idle": "2024-02-19T19:53:00.635307Z",
     "shell.execute_reply": "2024-02-19T19:53:00.634306Z",
     "shell.execute_reply.started": "2024-02-19T19:53:00.497835Z"
    }
   },
   "outputs": [],
   "source": [
    "df['nummed'] = 0\n",
    "\n",
    "for col in keys:\n",
    "    df['nummed'] = df['nummed'] + df[col]\n",
    "df['nummed'].value_counts()"
   ]
  },
  {
   "cell_type": "code",
   "execution_count": null,
   "metadata": {
    "execution": {
     "iopub.execute_input": "2024-02-19T19:53:00.636788Z",
     "iopub.status.busy": "2024-02-19T19:53:00.636535Z",
     "iopub.status.idle": "2024-02-19T19:53:00.714526Z",
     "shell.execute_reply": "2024-02-19T19:53:00.713645Z",
     "shell.execute_reply.started": "2024-02-19T19:53:00.636743Z"
    }
   },
   "outputs": [],
   "source": [
    "# get list of only numeric features\n",
    "num_col = list(set(list(df._get_numeric_data().columns))- {'readmitted'})\n",
    "num_col"
   ]
  },
  {
   "cell_type": "code",
   "execution_count": null,
   "metadata": {
    "execution": {
     "iopub.execute_input": "2024-02-19T19:53:00.715898Z",
     "iopub.status.busy": "2024-02-19T19:53:00.715641Z",
     "iopub.status.idle": "2024-02-19T19:53:01.831391Z",
     "shell.execute_reply": "2024-02-19T19:53:01.830454Z",
     "shell.execute_reply.started": "2024-02-19T19:53:00.715853Z"
    }
   },
   "outputs": [],
   "source": [
    "# Removing skewnewss and kurtosis using log transformation if it is above a threshold value -  2\n",
    "\n",
    "statdataframe = pd.DataFrame()\n",
    "statdataframe['numeric_column'] = num_col\n",
    "skew_before = []\n",
    "skew_after = []\n",
    "\n",
    "kurt_before = []\n",
    "kurt_after = []\n",
    "\n",
    "standard_deviation_before = []\n",
    "standard_deviation_after = []\n",
    "\n",
    "log_transform_needed = []\n",
    "\n",
    "log_type = []\n",
    "\n",
    "for i in num_col:\n",
    "    skewval = df[i].skew()\n",
    "    skew_before.append(skewval)\n",
    "    \n",
    "    kurtval = df[i].kurtosis()\n",
    "    kurt_before.append(kurtval)\n",
    "    \n",
    "    sdval = df[i].std()\n",
    "    standard_deviation_before.append(sdval)\n",
    "    \n",
    "    if (abs(skewval) >2) & (abs(kurtval) >2):\n",
    "        log_transform_needed.append('Yes')\n",
    "        \n",
    "        if len(df[df[i] == 0])/len(df) <=0.02:\n",
    "            log_type.append('log')\n",
    "            skewvalnew = np.log(pd.DataFrame(df[train_data[i] > 0])[i]).skew()\n",
    "            skew_after.append(skewvalnew)\n",
    "            \n",
    "            kurtvalnew = np.log(pd.DataFrame(df[train_data[i] > 0])[i]).kurtosis()\n",
    "            kurt_after.append(kurtvalnew)\n",
    "            \n",
    "            sdvalnew = np.log(pd.DataFrame(df[train_data[i] > 0])[i]).std()\n",
    "            standard_deviation_after.append(sdvalnew)\n",
    "            \n",
    "        else:\n",
    "            log_type.append('log1p')\n",
    "            skewvalnew = np.log1p(pd.DataFrame(df[df[i] >= 0])[i]).skew()\n",
    "            skew_after.append(skewvalnew)\n",
    "        \n",
    "            kurtvalnew = np.log1p(pd.DataFrame(df[df[i] >= 0])[i]).kurtosis()\n",
    "            kurt_after.append(kurtvalnew)\n",
    "            \n",
    "            sdvalnew = np.log1p(pd.DataFrame(df[df[i] >= 0])[i]).std()\n",
    "            standard_deviation_after.append(sdvalnew)\n",
    "            \n",
    "    else:\n",
    "        log_type.append('NA')\n",
    "        log_transform_needed.append('No')\n",
    "        \n",
    "        skew_after.append(skewval)\n",
    "        kurt_after.append(kurtval)\n",
    "        standard_deviation_after.append(sdval)\n",
    "\n",
    "statdataframe['skew_before'] = skew_before\n",
    "statdataframe['kurtosis_before'] = kurt_before\n",
    "statdataframe['standard_deviation_before'] = standard_deviation_before\n",
    "statdataframe['log_transform_needed'] = log_transform_needed\n",
    "statdataframe['log_type'] = log_type\n",
    "statdataframe['skew_after'] = skew_after\n",
    "statdataframe['kurtosis_after'] = kurt_after\n",
    "statdataframe['standard_deviation_after'] = standard_deviation_after"
   ]
  },
  {
   "cell_type": "code",
   "execution_count": null,
   "metadata": {
    "execution": {
     "iopub.execute_input": "2024-02-19T19:53:01.833318Z",
     "iopub.status.busy": "2024-02-19T19:53:01.833000Z",
     "iopub.status.idle": "2024-02-19T19:53:01.869854Z",
     "shell.execute_reply": "2024-02-19T19:53:01.868542Z",
     "shell.execute_reply.started": "2024-02-19T19:53:01.833260Z"
    }
   },
   "outputs": [],
   "source": [
    "statdataframe"
   ]
  },
  {
   "cell_type": "code",
   "execution_count": null,
   "metadata": {
    "execution": {
     "iopub.execute_input": "2024-02-19T19:53:01.872625Z",
     "iopub.status.busy": "2024-02-19T19:53:01.871932Z",
     "iopub.status.idle": "2024-02-19T19:53:02.204921Z",
     "shell.execute_reply": "2024-02-19T19:53:02.203816Z",
     "shell.execute_reply.started": "2024-02-19T19:53:01.872295Z"
    }
   },
   "outputs": [],
   "source": [
    "# performing the log transformation for the columns determined to be needing it above.\n",
    "\n",
    "for i in range(len(statdataframe)):\n",
    "    if statdataframe['log_transform_needed'][i] == 'Yes':\n",
    "        colname = str(statdataframe['numeric_column'][i])\n",
    "        \n",
    "        if statdataframe['log_type'][i] == 'log':\n",
    "            df = df[df[colname] > 0]\n",
    "            df[colname + \"_log\"] = np.log(df[colname])\n",
    "            \n",
    "        elif statdataframe['log_type'][i] == 'log1p':\n",
    "            df = df[df[colname] >= 0]\n",
    "            df[colname + \"_log1p\"] = np.log1p(df[colname])"
   ]
  },
  {
   "cell_type": "code",
   "execution_count": null,
   "metadata": {
    "execution": {
     "iopub.execute_input": "2024-02-19T19:53:02.206887Z",
     "iopub.status.busy": "2024-02-19T19:53:02.206538Z",
     "iopub.status.idle": "2024-02-19T19:53:02.268986Z",
     "shell.execute_reply": "2024-02-19T19:53:02.268057Z",
     "shell.execute_reply.started": "2024-02-19T19:53:02.206831Z"
    }
   },
   "outputs": [],
   "source": [
    "df = df.drop(['number_outpatient', 'number_inpatient', 'number_emergency','service_utilization'], axis = 1)"
   ]
  },
  {
   "cell_type": "code",
   "execution_count": null,
   "metadata": {
    "execution": {
     "iopub.execute_input": "2024-02-19T19:53:02.270653Z",
     "iopub.status.busy": "2024-02-19T19:53:02.270270Z",
     "iopub.status.idle": "2024-02-19T19:53:02.278235Z",
     "shell.execute_reply": "2024-02-19T19:53:02.277211Z",
     "shell.execute_reply.started": "2024-02-19T19:53:02.270593Z"
    }
   },
   "outputs": [],
   "source": [
    "df.shape"
   ]
  },
  {
   "cell_type": "code",
   "execution_count": null,
   "metadata": {
    "execution": {
     "iopub.execute_input": "2024-02-19T19:53:02.280655Z",
     "iopub.status.busy": "2024-02-19T19:53:02.280056Z",
     "iopub.status.idle": "2024-02-19T19:53:02.291788Z",
     "shell.execute_reply": "2024-02-19T19:53:02.290565Z",
     "shell.execute_reply.started": "2024-02-19T19:53:02.280568Z"
    }
   },
   "outputs": [],
   "source": [
    "# get list of only numeric features\n",
    "numerics = list(set(list(df._get_numeric_data().columns))- {'readmitted'})\n",
    "numerics"
   ]
  },
  {
   "cell_type": "code",
   "execution_count": null,
   "metadata": {
    "execution": {
     "iopub.execute_input": "2024-02-19T19:53:02.294378Z",
     "iopub.status.busy": "2024-02-19T19:53:02.293969Z",
     "iopub.status.idle": "2024-02-19T19:53:03.374156Z",
     "shell.execute_reply": "2024-02-19T19:53:03.373215Z",
     "shell.execute_reply.started": "2024-02-19T19:53:02.294290Z"
    }
   },
   "outputs": [],
   "source": [
    "# show list of features that are categorical\n",
    "df.encounter_id = df.encounter_id.astype('int64')\n",
    "df.patient_nbr = df.patient_nbr.astype('int64')\n",
    "df.diabetesMed = df.diabetesMed.astype('int64')\n",
    "df.change = df.change.astype('int64')\n",
    "\n",
    "# convert data type of nominal features in dataframe to 'object' type for aggregating\n",
    "i = ['metformin', 'repaglinide', 'nateglinide', 'chlorpropamide', 'glimepiride', 'acetohexamide', \\\n",
    "          'glipizide', 'glyburide', 'tolbutamide', 'pioglitazone', 'rosiglitazone', 'acarbose','miglitol', \\\n",
    "          'troglitazone', 'tolazamide', 'insulin', 'glyburide-metformin', 'glipizide-metformin', \\\n",
    "          'glimepiride-pioglitazone', 'metformin-rosiglitazone', 'metformin-pioglitazone','A1Cresult']\n",
    "df[i] = df[i].astype('int64')\n",
    "\n",
    "df.dtypes"
   ]
  },
  {
   "cell_type": "code",
   "execution_count": null,
   "metadata": {
    "execution": {
     "iopub.execute_input": "2024-02-19T19:53:03.375554Z",
     "iopub.status.busy": "2024-02-19T19:53:03.375266Z",
     "iopub.status.idle": "2024-02-19T19:53:03.406164Z",
     "shell.execute_reply": "2024-02-19T19:53:03.405306Z",
     "shell.execute_reply.started": "2024-02-19T19:53:03.375506Z"
    }
   },
   "outputs": [],
   "source": [
    "dfcopy = df.copy(deep = True)"
   ]
  },
  {
   "cell_type": "code",
   "execution_count": null,
   "metadata": {
    "execution": {
     "iopub.execute_input": "2024-02-19T19:53:03.408240Z",
     "iopub.status.busy": "2024-02-19T19:53:03.407867Z",
     "iopub.status.idle": "2024-02-19T19:53:03.497564Z",
     "shell.execute_reply": "2024-02-19T19:53:03.496529Z",
     "shell.execute_reply.started": "2024-02-19T19:53:03.408165Z"
    }
   },
   "outputs": [],
   "source": [
    "df['readmitted'] = df['readmitted'].apply(lambda x: 0 if x == 2 else x)"
   ]
  },
  {
   "cell_type": "code",
   "execution_count": null,
   "metadata": {
    "execution": {
     "iopub.execute_input": "2024-02-19T19:53:03.499331Z",
     "iopub.status.busy": "2024-02-19T19:53:03.498971Z",
     "iopub.status.idle": "2024-02-19T19:53:03.527982Z",
     "shell.execute_reply": "2024-02-19T19:53:03.527004Z",
     "shell.execute_reply.started": "2024-02-19T19:53:03.499265Z"
    }
   },
   "outputs": [],
   "source": [
    "# drop individual diagnosis columns that have too granular disease information\n",
    "# also drop level 2 categorization (which was not comparable with any reference)\n",
    "# also drop level 1 secondary and tertiary diagnoses\n",
    "df.drop(['diag_1', 'diag_2', 'diag_3', 'level2_diag1', 'level1_diag2', 'level2_diag2', 'level1_diag3',\n",
    "         'level2_diag3'], axis=1, inplace=True)"
   ]
  },
  {
   "cell_type": "code",
   "execution_count": null,
   "metadata": {
    "execution": {
     "iopub.execute_input": "2024-02-19T19:53:03.529510Z",
     "iopub.status.busy": "2024-02-19T19:53:03.529219Z",
     "iopub.status.idle": "2024-02-19T19:53:03.536608Z",
     "shell.execute_reply": "2024-02-19T19:53:03.535541Z",
     "shell.execute_reply.started": "2024-02-19T19:53:03.529457Z"
    }
   },
   "outputs": [],
   "source": [
    "interactionterms = [('num_medications','time_in_hospital'),\n",
    "('num_medications','num_procedures'),\n",
    "('time_in_hospital','num_lab_procedures'),\n",
    "('num_medications','num_lab_procedures'),\n",
    "('num_medications','number_diagnoses'),\n",
    "('age','number_diagnoses'),\n",
    "('change','num_medications'),\n",
    "('number_diagnoses','time_in_hospital'),\n",
    "('num_medications','numchange')]"
   ]
  },
  {
   "cell_type": "code",
   "execution_count": null,
   "metadata": {
    "execution": {
     "iopub.execute_input": "2024-02-19T19:53:03.538297Z",
     "iopub.status.busy": "2024-02-19T19:53:03.537982Z",
     "iopub.status.idle": "2024-02-19T19:53:03.567977Z",
     "shell.execute_reply": "2024-02-19T19:53:03.566974Z",
     "shell.execute_reply.started": "2024-02-19T19:53:03.538244Z"
    }
   },
   "outputs": [],
   "source": [
    "for inter in interactionterms:\n",
    "    name = inter[0] + '|' + inter[1]\n",
    "    df[name] = df[inter[0]] * df[inter[1]]"
   ]
  },
  {
   "cell_type": "code",
   "execution_count": null,
   "metadata": {
    "execution": {
     "iopub.execute_input": "2024-02-19T19:53:03.569556Z",
     "iopub.status.busy": "2024-02-19T19:53:03.569255Z",
     "iopub.status.idle": "2024-02-19T19:53:03.654920Z",
     "shell.execute_reply": "2024-02-19T19:53:03.654034Z",
     "shell.execute_reply.started": "2024-02-19T19:53:03.569508Z"
    }
   },
   "outputs": [],
   "source": [
    "df[['num_medications','time_in_hospital', 'num_medications|time_in_hospital']].head()"
   ]
  },
  {
   "cell_type": "code",
   "execution_count": null,
   "metadata": {
    "execution": {
     "iopub.execute_input": "2024-02-19T19:53:03.656418Z",
     "iopub.status.busy": "2024-02-19T19:53:03.656145Z",
     "iopub.status.idle": "2024-02-19T19:53:03.677525Z",
     "shell.execute_reply": "2024-02-19T19:53:03.676045Z",
     "shell.execute_reply.started": "2024-02-19T19:53:03.656370Z"
    }
   },
   "outputs": [],
   "source": [
    "# Feature Scaling\n",
    "datf = pd.DataFrame()\n",
    "datf['features'] = numerics\n",
    "datf['std_dev'] = datf['features'].apply(lambda x: df[x].std())\n",
    "datf['mean'] = datf['features'].apply(lambda x: df[x].mean())"
   ]
  },
  {
   "cell_type": "code",
   "execution_count": null,
   "metadata": {
    "execution": {
     "iopub.execute_input": "2024-02-19T19:53:03.679260Z",
     "iopub.status.busy": "2024-02-19T19:53:03.678991Z",
     "iopub.status.idle": "2024-02-19T19:53:03.713262Z",
     "shell.execute_reply": "2024-02-19T19:53:03.712420Z",
     "shell.execute_reply.started": "2024-02-19T19:53:03.679214Z"
    }
   },
   "outputs": [],
   "source": [
    "# dropping multiple encounters while keeping either first or last encounter of these patients\n",
    "df2 = df.drop_duplicates(subset= ['patient_nbr'], keep = 'first')\n",
    "df2.shape"
   ]
  },
  {
   "cell_type": "code",
   "execution_count": null,
   "metadata": {
    "execution": {
     "iopub.execute_input": "2024-02-19T19:53:03.715323Z",
     "iopub.status.busy": "2024-02-19T19:53:03.714949Z",
     "iopub.status.idle": "2024-02-19T19:53:03.720803Z",
     "shell.execute_reply": "2024-02-19T19:53:03.720025Z",
     "shell.execute_reply.started": "2024-02-19T19:53:03.715253Z"
    }
   },
   "outputs": [],
   "source": [
    "# standardize function\n",
    "def standardize(raw_data):\n",
    "    return ((raw_data - np.mean(raw_data, axis = 0)) / np.std(raw_data, axis = 0))"
   ]
  },
  {
   "cell_type": "code",
   "execution_count": null,
   "metadata": {
    "execution": {
     "iopub.execute_input": "2024-02-19T19:53:03.722824Z",
     "iopub.status.busy": "2024-02-19T19:53:03.722456Z",
     "iopub.status.idle": "2024-02-19T19:53:04.578314Z",
     "shell.execute_reply": "2024-02-19T19:53:04.577260Z",
     "shell.execute_reply.started": "2024-02-19T19:53:03.722752Z"
    }
   },
   "outputs": [],
   "source": [
    "df2[numerics] = standardize(df2[numerics])\n",
    "import scipy as sp\n",
    "df2 = df2[(np.abs(sp.stats.zscore(df2[numerics])) < 3).all(axis=1)]"
   ]
  },
  {
   "cell_type": "code",
   "execution_count": null,
   "metadata": {
    "execution": {
     "iopub.execute_input": "2024-02-19T19:53:04.580232Z",
     "iopub.status.busy": "2024-02-19T19:53:04.579910Z",
     "iopub.status.idle": "2024-02-19T19:53:06.131928Z",
     "shell.execute_reply": "2024-02-19T19:53:06.127234Z",
     "shell.execute_reply.started": "2024-02-19T19:53:04.580170Z"
    }
   },
   "outputs": [],
   "source": [
    "from matplotlib.colors import ListedColormap\n",
    "my_cmap = ListedColormap(sns.light_palette((250, 100, 50), input=\"husl\", n_colors=50).as_hex())\n",
    "table = df2.drop(['patient_nbr', 'encounter_id'], axis=1).corr(method='pearson')\n",
    "table.style.background_gradient(cmap=my_cmap, axis = 0)"
   ]
  },
  {
   "cell_type": "code",
   "execution_count": null,
   "metadata": {
    "execution": {
     "iopub.execute_input": "2024-02-19T19:53:06.133782Z",
     "iopub.status.busy": "2024-02-19T19:53:06.133504Z",
     "iopub.status.idle": "2024-02-19T19:53:06.362966Z",
     "shell.execute_reply": "2024-02-19T19:53:06.361937Z",
     "shell.execute_reply.started": "2024-02-19T19:53:06.133734Z"
    }
   },
   "outputs": [],
   "source": [
    "df2['level1_diag1'] = df2['level1_diag1'].astype('object')\n",
    "df_pd = pd.get_dummies(df2, columns=['gender', 'admission_type_id', 'discharge_disposition_id',\n",
    "                                      'admission_source_id', 'max_glu_serum', 'A1Cresult', 'level1_diag1'], drop_first = True)\n",
    "just_dummies = pd.get_dummies(df_pd['race'])\n",
    "df_pd = pd.concat([df_pd, just_dummies], axis=1)      \n",
    "df_pd.drop(['race'], inplace=True, axis=1)"
   ]
  },
  {
   "cell_type": "code",
   "execution_count": null,
   "metadata": {
    "execution": {
     "iopub.execute_input": "2024-02-19T19:53:06.364433Z",
     "iopub.status.busy": "2024-02-19T19:53:06.364159Z",
     "iopub.status.idle": "2024-02-19T19:53:06.368807Z",
     "shell.execute_reply": "2024-02-19T19:53:06.367965Z",
     "shell.execute_reply.started": "2024-02-19T19:53:06.364391Z"
    }
   },
   "outputs": [],
   "source": [
    "non_num_cols = ['race', 'gender', 'admission_type_id', 'discharge_disposition_id', 'admission_source_id', \n",
    "                'max_glu_serum', 'A1Cresult', 'level1_diag1' ]"
   ]
  },
  {
   "cell_type": "code",
   "execution_count": null,
   "metadata": {
    "execution": {
     "iopub.execute_input": "2024-02-19T19:53:06.370813Z",
     "iopub.status.busy": "2024-02-19T19:53:06.370460Z",
     "iopub.status.idle": "2024-02-19T19:53:06.382825Z",
     "shell.execute_reply": "2024-02-19T19:53:06.381953Z",
     "shell.execute_reply.started": "2024-02-19T19:53:06.370760Z"
    }
   },
   "outputs": [],
   "source": [
    "num_cols = list(set(list(df._get_numeric_data().columns))- {'readmitted', 'change'})\n",
    "num_cols"
   ]
  },
  {
   "cell_type": "code",
   "execution_count": null,
   "metadata": {
    "execution": {
     "iopub.execute_input": "2024-02-19T19:53:06.385104Z",
     "iopub.status.busy": "2024-02-19T19:53:06.384731Z",
     "iopub.status.idle": "2024-02-19T19:53:06.394548Z",
     "shell.execute_reply": "2024-02-19T19:53:06.393735Z",
     "shell.execute_reply.started": "2024-02-19T19:53:06.385034Z"
    }
   },
   "outputs": [],
   "source": [
    "new_non_num_cols = []\n",
    "for i in non_num_cols:\n",
    "    for j in df_pd.columns:\n",
    "        if i in j:\n",
    "            new_non_num_cols.append(j)"
   ]
  },
  {
   "cell_type": "code",
   "execution_count": null,
   "metadata": {
    "execution": {
     "iopub.execute_input": "2024-02-19T19:53:06.396468Z",
     "iopub.status.busy": "2024-02-19T19:53:06.396112Z",
     "iopub.status.idle": "2024-02-19T19:53:06.404921Z",
     "shell.execute_reply": "2024-02-19T19:53:06.404098Z",
     "shell.execute_reply.started": "2024-02-19T19:53:06.396406Z"
    }
   },
   "outputs": [],
   "source": [
    "new_non_num_cols"
   ]
  },
  {
   "cell_type": "code",
   "execution_count": null,
   "metadata": {
    "execution": {
     "iopub.execute_input": "2024-02-19T19:53:06.406160Z",
     "iopub.status.busy": "2024-02-19T19:53:06.405921Z",
     "iopub.status.idle": "2024-02-19T19:53:06.417193Z",
     "shell.execute_reply": "2024-02-19T19:53:06.416196Z",
     "shell.execute_reply.started": "2024-02-19T19:53:06.406122Z"
    }
   },
   "outputs": [],
   "source": [
    "l = []\n",
    "for feature in list(df_pd.columns):\n",
    "    if '|' in feature:\n",
    "        l.append(feature)\n",
    "l"
   ]
  },
  {
   "cell_type": "code",
   "execution_count": null,
   "metadata": {
    "execution": {
     "iopub.execute_input": "2024-02-19T19:53:06.419752Z",
     "iopub.status.busy": "2024-02-19T19:53:06.419379Z",
     "iopub.status.idle": "2024-02-19T19:53:06.469929Z",
     "shell.execute_reply": "2024-02-19T19:53:06.468852Z",
     "shell.execute_reply.started": "2024-02-19T19:53:06.419683Z"
    }
   },
   "outputs": [],
   "source": [
    "df_pd.head().T"
   ]
  },
  {
   "cell_type": "markdown",
   "metadata": {},
   "source": [
    "## Modeling"
   ]
  },
  {
   "cell_type": "code",
   "execution_count": null,
   "metadata": {
    "execution": {
     "iopub.execute_input": "2024-02-19T19:53:06.472003Z",
     "iopub.status.busy": "2024-02-19T19:53:06.471641Z",
     "iopub.status.idle": "2024-02-19T19:53:06.486679Z",
     "shell.execute_reply": "2024-02-19T19:53:06.485532Z",
     "shell.execute_reply.started": "2024-02-19T19:53:06.471934Z"
    }
   },
   "outputs": [],
   "source": [
    "feature_set = ['age', 'time_in_hospital', 'num_procedures', 'num_medications', 'number_outpatient_log1p', \n",
    "                 'number_emergency_log1p', 'number_inpatient_log1p', 'number_diagnoses', 'metformin', \n",
    "                 'repaglinide', 'nateglinide', 'chlorpropamide', 'glimepiride', 'glipizide', 'glyburide',\n",
    "                 'pioglitazone', 'rosiglitazone', 'acarbose', 'tolazamide', 'insulin', 'glyburide-metformin',\n",
    "                 'AfricanAmerican', 'Asian', 'Caucasian', 'Hispanic', 'Other', 'gender_1', \n",
    "                 'admission_type_id_3', 'admission_type_id_5', 'discharge_disposition_id_2', 'discharge_disposition_id_7', \n",
    "                 'discharge_disposition_id_10', 'discharge_disposition_id_18', 'admission_source_id_4',\n",
    "                 'admission_source_id_7', 'admission_source_id_9', 'max_glu_serum_0', 'max_glu_serum_1', 'A1Cresult_0',\n",
    "                 'A1Cresult_1', 'num_medications|time_in_hospital', 'num_medications|num_procedures',\n",
    "                 'time_in_hospital|num_lab_procedures', 'num_medications|num_lab_procedures', 'num_medications|number_diagnoses',\n",
    "                 'age|number_diagnoses', 'change|num_medications', 'number_diagnoses|time_in_hospital',\n",
    "                 'num_medications|numchange', 'level1_diag1_1.0', 'level1_diag1_2.0', 'level1_diag1_3.0', 'level1_diag1_4.0',\n",
    "                 'level1_diag1_5.0','level1_diag1_6.0', 'level1_diag1_7.0', 'level1_diag1_8.0']"
   ]
  },
  {
   "cell_type": "code",
   "execution_count": null,
   "metadata": {
    "execution": {
     "iopub.execute_input": "2024-02-19T19:53:06.488649Z",
     "iopub.status.busy": "2024-02-19T19:53:06.488260Z",
     "iopub.status.idle": "2024-02-19T19:53:06.506275Z",
     "shell.execute_reply": "2024-02-19T19:53:06.505494Z",
     "shell.execute_reply.started": "2024-02-19T19:53:06.488572Z"
    }
   },
   "outputs": [],
   "source": [
    "X = df_pd[feature_set]\n",
    "y = df_pd['readmitted']"
   ]
  },
  {
   "cell_type": "markdown",
   "metadata": {},
   "source": [
    "### Logistic Regression"
   ]
  },
  {
   "cell_type": "code",
   "execution_count": null,
   "metadata": {
    "execution": {
     "iopub.execute_input": "2024-02-19T19:53:06.507857Z",
     "iopub.status.busy": "2024-02-19T19:53:06.507594Z",
     "iopub.status.idle": "2024-02-19T19:53:06.519291Z",
     "shell.execute_reply": "2024-02-19T19:53:06.518484Z",
     "shell.execute_reply.started": "2024-02-19T19:53:06.507811Z"
    }
   },
   "outputs": [],
   "source": [
    "df_pd['readmitted'].value_counts()"
   ]
  },
  {
   "cell_type": "code",
   "execution_count": null,
   "metadata": {
    "execution": {
     "iopub.execute_input": "2024-02-19T19:53:06.521511Z",
     "iopub.status.busy": "2024-02-19T19:53:06.521146Z",
     "iopub.status.idle": "2024-02-19T19:53:17.800926Z",
     "shell.execute_reply": "2024-02-19T19:53:17.799907Z",
     "shell.execute_reply.started": "2024-02-19T19:53:06.521449Z"
    }
   },
   "outputs": [],
   "source": [
    "from sklearn.model_selection import train_test_split\n",
    "from sklearn.linear_model import LogisticRegression\n",
    "from sklearn.model_selection import cross_val_score\n",
    "X_train, X_test, y_train, y_test = train_test_split(X, y, test_size=0.20, random_state=0)\n",
    "logit = LogisticRegression(fit_intercept=True, penalty='l1')\n",
    "logit.fit(X_train, y_train)"
   ]
  },
  {
   "cell_type": "code",
   "execution_count": null,
   "metadata": {
    "execution": {
     "iopub.execute_input": "2024-02-19T19:53:17.802936Z",
     "iopub.status.busy": "2024-02-19T19:53:17.802553Z",
     "iopub.status.idle": "2024-02-19T19:53:18.007163Z",
     "shell.execute_reply": "2024-02-19T19:53:18.006111Z",
     "shell.execute_reply.started": "2024-02-19T19:53:17.802863Z"
    }
   },
   "outputs": [],
   "source": [
    "logit_pred = logit.predict(X_test)\n",
    "pd.crosstab(pd.Series(y_test, name = 'Actual'), pd.Series(logit_pred, name = 'Predict'), margins = True)"
   ]
  },
  {
   "cell_type": "code",
   "execution_count": null,
   "metadata": {
    "execution": {
     "iopub.execute_input": "2024-02-19T19:53:18.009295Z",
     "iopub.status.busy": "2024-02-19T19:53:18.008756Z",
     "iopub.status.idle": "2024-02-19T19:53:18.030903Z",
     "shell.execute_reply": "2024-02-19T19:53:18.029894Z",
     "shell.execute_reply.started": "2024-02-19T19:53:18.009232Z"
    }
   },
   "outputs": [],
   "source": [
    "from sklearn.metrics import accuracy_score, precision_score, recall_score\n",
    "print(\"Accuracy is {0:.2f}\".format(accuracy_score(y_test, logit_pred)))\n",
    "print(\"Precision is {0:.2f}\".format(precision_score(y_test, logit_pred)))\n",
    "print(\"Recall is {0:.2f}\".format(recall_score(y_test, logit_pred)))"
   ]
  },
  {
   "cell_type": "markdown",
   "metadata": {},
   "source": [
    "Since our target variable is having class imbalance problem, So will use SMOTE technique to resolve it\n"
   ]
  },
  {
   "cell_type": "code",
   "execution_count": null,
   "metadata": {
    "execution": {
     "iopub.execute_input": "2024-02-19T20:52:46.633812Z",
     "iopub.status.busy": "2024-02-19T20:52:46.633403Z",
     "iopub.status.idle": "2024-02-19T20:53:39.447696Z",
     "shell.execute_reply": "2024-02-19T20:53:39.446470Z",
     "shell.execute_reply.started": "2024-02-19T20:52:46.633753Z"
    }
   },
   "outputs": [],
   "source": [
    "from imblearn.over_sampling import SMOTE\n",
    "from collections import Counter\n",
    "print('Original dataset shape {}'.format(Counter(y_train)))\n",
    "sm = SMOTE(random_state=20)\n",
    "train_input_new, train_output_new = sm.fit_sample(X_train, y_train)\n",
    "print(train_input_new)\n",
    "print('New dataset shape {}'.format(Counter(train_output_new)))"
   ]
  },
  {
   "cell_type": "code",
   "execution_count": null,
   "metadata": {
    "execution": {
     "iopub.execute_input": "2024-02-19T19:53:20.516041Z",
     "iopub.status.busy": "2024-02-19T19:53:20.515422Z",
     "iopub.status.idle": "2024-02-19T19:53:57.679957Z",
     "shell.execute_reply": "2024-02-19T19:53:57.679071Z",
     "shell.execute_reply.started": "2024-02-19T19:53:20.515971Z"
    }
   },
   "outputs": [],
   "source": [
    "train_input_new = pd.DataFrame(train_input_new, columns = list(X.columns))\n",
    "from sklearn.model_selection import train_test_split\n",
    "from sklearn.linear_model import LogisticRegression\n",
    "from sklearn.model_selection import cross_val_score\n",
    "X_train, X_test, y_train, y_test = train_test_split(train_input_new, train_output_new, test_size=0.20, random_state=0)\n",
    "logit = LogisticRegression(fit_intercept=True, penalty='l1')\n",
    "logit.fit(X_train, y_train)"
   ]
  },
  {
   "cell_type": "code",
   "execution_count": null,
   "metadata": {
    "execution": {
     "iopub.execute_input": "2024-02-19T19:53:57.684140Z",
     "iopub.status.busy": "2024-02-19T19:53:57.683858Z",
     "iopub.status.idle": "2024-02-19T19:53:57.812879Z",
     "shell.execute_reply": "2024-02-19T19:53:57.811615Z",
     "shell.execute_reply.started": "2024-02-19T19:53:57.684093Z"
    }
   },
   "outputs": [],
   "source": [
    "logit_pred = logit.predict(X_test)\n",
    "pd.crosstab(pd.Series(y_test, name = 'Actual'), pd.Series(logit_pred, name = 'Predict'), margins = True)"
   ]
  },
  {
   "cell_type": "code",
   "execution_count": null,
   "metadata": {
    "execution": {
     "iopub.execute_input": "2024-02-19T19:53:57.814341Z",
     "iopub.status.busy": "2024-02-19T19:53:57.813948Z",
     "iopub.status.idle": "2024-02-19T19:53:57.846320Z",
     "shell.execute_reply": "2024-02-19T19:53:57.845476Z",
     "shell.execute_reply.started": "2024-02-19T19:53:57.814297Z"
    }
   },
   "outputs": [],
   "source": [
    "print(\"Accuracy is {0:.2f}\".format(accuracy_score(y_test, logit_pred)))\n",
    "print(\"Precision is {0:.2f}\".format(precision_score(y_test, logit_pred)))\n",
    "print(\"Recall is {0:.2f}\".format(recall_score(y_test, logit_pred)))\n",
    "\n",
    "accuracy_logit = accuracy_score(y_test, logit_pred)\n",
    "precision_logit = precision_score(y_test, logit_pred)\n",
    "recall_logit = recall_score(y_test, logit_pred)"
   ]
  },
  {
   "cell_type": "markdown",
   "metadata": {},
   "source": [
    "### Decision Tree"
   ]
  },
  {
   "cell_type": "code",
   "execution_count": null,
   "metadata": {
    "execution": {
     "iopub.execute_input": "2024-02-19T19:53:57.848212Z",
     "iopub.status.busy": "2024-02-19T19:53:57.847902Z",
     "iopub.status.idle": "2024-02-19T19:53:57.866798Z",
     "shell.execute_reply": "2024-02-19T19:53:57.865719Z",
     "shell.execute_reply.started": "2024-02-19T19:53:57.848154Z"
    }
   },
   "outputs": [],
   "source": [
    "feature_set_no_int = ['age', 'time_in_hospital', 'num_procedures', 'num_medications', 'number_outpatient_log1p', \n",
    "                 'number_emergency_log1p', 'number_inpatient_log1p', 'number_diagnoses', 'metformin', \n",
    "                 'repaglinide', 'nateglinide', 'chlorpropamide', 'glimepiride', 'glipizide', \n",
    "                 'glyburide', 'pioglitazone', 'rosiglitazone', 'acarbose', \n",
    "                 'tolazamide', 'insulin', 'glyburide-metformin',\n",
    "                 'AfricanAmerican', 'Asian', 'Caucasian', \n",
    "                 'Hispanic', 'Other', 'gender_1', \n",
    "                 'admission_type_id_3', 'admission_type_id_5', \n",
    "                 'discharge_disposition_id_2', 'discharge_disposition_id_7', \n",
    "                 'discharge_disposition_id_10', 'discharge_disposition_id_18', \n",
    "                 'admission_source_id_4', 'admission_source_id_7', \n",
    "                 'admission_source_id_9', 'max_glu_serum_0', \n",
    "                 'max_glu_serum_1', 'A1Cresult_0', 'A1Cresult_1', \n",
    "                 'level1_diag1_1.0',\n",
    "                 'level1_diag1_2.0',\n",
    "                 'level1_diag1_3.0',\n",
    "                 'level1_diag1_4.0',\n",
    "                 'level1_diag1_5.0',\n",
    "                 'level1_diag1_6.0',\n",
    "                 'level1_diag1_7.0',\n",
    "                 'level1_diag1_8.0']"
   ]
  },
  {
   "cell_type": "code",
   "execution_count": null,
   "metadata": {
    "execution": {
     "iopub.execute_input": "2024-02-19T19:53:57.868959Z",
     "iopub.status.busy": "2024-02-19T19:53:57.868341Z",
     "iopub.status.idle": "2024-02-19T19:53:57.892434Z",
     "shell.execute_reply": "2024-02-19T19:53:57.890698Z",
     "shell.execute_reply.started": "2024-02-19T19:53:57.868893Z"
    }
   },
   "outputs": [],
   "source": [
    "X = df_pd[feature_set_no_int]\n",
    "y = df_pd['readmitted']\n",
    "df_pd['readmitted'].value_counts()"
   ]
  },
  {
   "cell_type": "code",
   "execution_count": null,
   "metadata": {
    "execution": {
     "iopub.execute_input": "2024-02-19T20:56:27.101045Z",
     "iopub.status.busy": "2024-02-19T20:56:27.100704Z",
     "iopub.status.idle": "2024-02-19T20:56:28.744288Z",
     "shell.execute_reply": "2024-02-19T20:56:28.743135Z",
     "shell.execute_reply.started": "2024-02-19T20:56:27.100993Z"
    }
   },
   "outputs": [],
   "source": [
    "# print('Original dataset shape {}'.format(Counter(y)))\n",
    "smt = SMOTE(random_state=20)\n",
    "train_input_new, train_output_new = smt.fit_sample(X, y)\n",
    "# print('New dataset shape {}'.format(Counter(train_output_new)))\n",
    "train_input_new = pd.DataFrame(train_input_new, columns = list(X.columns))\n",
    "X_train, X_test, y_train, y_test = train_test_split(train_input_new, train_output_new, test_size=0.20, random_state=0)\n"
   ]
  },
  {
   "cell_type": "code",
   "execution_count": null,
   "metadata": {
    "execution": {
     "iopub.execute_input": "2024-02-19T20:58:30.121382Z",
     "iopub.status.busy": "2024-02-19T20:58:30.121031Z",
     "iopub.status.idle": "2024-02-19T20:58:36.726379Z",
     "shell.execute_reply": "2024-02-19T20:58:36.725523Z",
     "shell.execute_reply.started": "2024-02-19T20:58:30.121317Z"
    }
   },
   "outputs": [],
   "source": [
    "\n",
    "csv_file_path = \"X_train.csv\"\n",
    "X_train.to_csv(csv_file_path, index=False)\n",
    "\n",
    "print(\"CSV file saved successfully:\", csv_file_path)\n"
   ]
  },
  {
   "cell_type": "code",
   "execution_count": null,
   "metadata": {
    "execution": {
     "iopub.execute_input": "2024-02-19T19:53:59.465259Z",
     "iopub.status.busy": "2024-02-19T19:53:59.464985Z",
     "iopub.status.idle": "2024-02-19T19:54:01.061692Z",
     "shell.execute_reply": "2024-02-19T19:54:01.060622Z",
     "shell.execute_reply.started": "2024-02-19T19:53:59.465212Z"
    }
   },
   "outputs": [],
   "source": [
    "from sklearn.tree import DecisionTreeClassifier\n",
    "dtree = DecisionTreeClassifier(max_depth=28, criterion = \"entropy\", min_samples_split=10)\n",
    "dtree.fit(X_train, y_train)"
   ]
  },
  {
   "cell_type": "code",
   "execution_count": null,
   "metadata": {
    "execution": {
     "iopub.execute_input": "2024-02-19T19:54:01.063715Z",
     "iopub.status.busy": "2024-02-19T19:54:01.063396Z",
     "iopub.status.idle": "2024-02-19T19:54:01.137038Z",
     "shell.execute_reply": "2024-02-19T19:54:01.136193Z",
     "shell.execute_reply.started": "2024-02-19T19:54:01.063655Z"
    }
   },
   "outputs": [],
   "source": [
    "dtree_pred = dtree.predict(X_test)\n",
    "pd.crosstab(pd.Series(y_test, name = 'Actual'), pd.Series(dtree_pred, name = 'Predict'), margins = True)"
   ]
  },
  {
   "cell_type": "code",
   "execution_count": null,
   "metadata": {
    "execution": {
     "iopub.execute_input": "2024-02-19T19:54:01.138745Z",
     "iopub.status.busy": "2024-02-19T19:54:01.138440Z",
     "iopub.status.idle": "2024-02-19T19:54:01.175649Z",
     "shell.execute_reply": "2024-02-19T19:54:01.174436Z",
     "shell.execute_reply.started": "2024-02-19T19:54:01.138688Z"
    }
   },
   "outputs": [],
   "source": [
    "print(\"Accuracy is {0:.2f}\".format(accuracy_score(y_test, dtree_pred)))\n",
    "print(\"Precision is {0:.2f}\".format(precision_score(y_test, dtree_pred)))\n",
    "print(\"Recall is {0:.2f}\".format(recall_score(y_test, dtree_pred)))\n",
    "\n",
    "accuracy_dtree = accuracy_score(y_test, dtree_pred)\n",
    "precision_dtree = precision_score(y_test, dtree_pred)\n",
    "recall_dtree = recall_score(y_test, dtree_pred)"
   ]
  },
  {
   "cell_type": "code",
   "execution_count": null,
   "metadata": {
    "execution": {
     "iopub.execute_input": "2024-02-19T19:54:01.177646Z",
     "iopub.status.busy": "2024-02-19T19:54:01.177248Z",
     "iopub.status.idle": "2024-02-19T19:54:01.742268Z",
     "shell.execute_reply": "2024-02-19T19:54:01.741297Z",
     "shell.execute_reply.started": "2024-02-19T19:54:01.177578Z"
    }
   },
   "outputs": [],
   "source": [
    "# Create list of top most features based on importance\n",
    "feature_names = X_train.columns\n",
    "feature_imports = dtree.feature_importances_\n",
    "most_imp_features = pd.DataFrame([f for f in zip(feature_names,feature_imports)], columns=[\"Feature\", \"Importance\"]).nlargest(10, \"Importance\")\n",
    "most_imp_features.sort_values(by=\"Importance\", inplace=True)\n",
    "print(most_imp_features)\n",
    "plt.figure(figsize=(10,6))\n",
    "plt.barh(range(len(most_imp_features)), most_imp_features.Importance, align='center', alpha=0.8)\n",
    "plt.yticks(range(len(most_imp_features)), most_imp_features.Feature, fontsize=14)\n",
    "plt.xlabel('Importance')\n",
    "plt.title('Most important features - Decision Tree')\n",
    "plt.show()"
   ]
  },
  {
   "cell_type": "markdown",
   "metadata": {},
   "source": [
    "### Random Forest"
   ]
  },
  {
   "cell_type": "code",
   "execution_count": null,
   "metadata": {
    "execution": {
     "iopub.execute_input": "2024-02-19T20:02:46.436001Z",
     "iopub.status.busy": "2024-02-19T20:02:46.435597Z",
     "iopub.status.idle": "2024-02-19T20:02:48.159940Z",
     "shell.execute_reply": "2024-02-19T20:02:48.158884Z",
     "shell.execute_reply.started": "2024-02-19T20:02:46.435934Z"
    }
   },
   "outputs": [],
   "source": [
    "X = df_pd[feature_set_no_int]\n",
    "y = df_pd['readmitted']\n",
    "\n",
    "print('Original dataset shape {}'.format(Counter(y)))\n",
    "smt = SMOTE(random_state=20)\n",
    "train_input_new, train_output_new = smt.fit_sample(X, y)\n",
    "print('New dataset shape {}'.format(Counter(train_output_new)))\n",
    "train_input_new = pd.DataFrame(train_input_new, columns = list(X.columns))\n",
    "X_train, X_test, y_train, y_test = train_test_split(train_input_new, train_output_new, test_size=0.20, random_state=0)\n",
    "print(X_test)"
   ]
  },
  {
   "cell_type": "code",
   "execution_count": null,
   "metadata": {
    "execution": {
     "iopub.execute_input": "2024-02-19T19:54:03.322339Z",
     "iopub.status.busy": "2024-02-19T19:54:03.321943Z",
     "iopub.status.idle": "2024-02-19T19:54:05.083418Z",
     "shell.execute_reply": "2024-02-19T19:54:05.082420Z",
     "shell.execute_reply.started": "2024-02-19T19:54:03.322292Z"
    }
   },
   "outputs": [],
   "source": [
    "from sklearn.ensemble import RandomForestClassifier\n",
    "rm = RandomForestClassifier(n_estimators = 10, max_depth=25, criterion = \"gini\", min_samples_split=10)\n",
    "rm.fit(X_train, y_train)\n"
   ]
  },
  {
   "cell_type": "code",
   "execution_count": null,
   "metadata": {
    "execution": {
     "iopub.execute_input": "2024-02-19T21:02:06.437564Z",
     "iopub.status.busy": "2024-02-19T21:02:06.437123Z",
     "iopub.status.idle": "2024-02-19T21:02:06.675800Z",
     "shell.execute_reply": "2024-02-19T21:02:06.674885Z",
     "shell.execute_reply.started": "2024-02-19T21:02:06.437504Z"
    }
   },
   "outputs": [],
   "source": [
    "rm_prd = rm.predict(X_test)\n",
    "individual_data = [[75.0, 0.3687093980173878, -0.816784387725113, 0.17260957445317487, -0.35670253915327943, -0.2679214371360831, -0.34983506945283155, -1.2337105920700608, 1.0, 0.0, 0.0, 0.0, 0.0, 1.0, 0.0, 0.0, 0.0, 0.0, 0.0, 1.0, 0.0, 0.0, 0.0, 1.0, 0.0, 0.0, 0.39827448420936584, 0.0, 0.39827448420936584, 1.0, 0.0, 0.0, 0.0, 0.6017255157906342, 0.0, 0.0, 0.0, 0.0, 0.0, 0.0, 1.0, 0.0, 0.0, 0.0, 0.0, 0.0, 0.0, 0.0]]\n",
    "prediction = rm.predict(individual_data)\n",
    "print(prediction)\n",
    "print(rm_prd)\n",
    "print(X_test)\n",
    "pd.crosstab(pd.Series(y_test, name = 'Actual'), pd.Series(rm_prd, name = 'Predict'), margins = True)"
   ]
  },
  {
   "cell_type": "code",
   "execution_count": null,
   "metadata": {
    "execution": {
     "iopub.execute_input": "2024-02-19T19:54:05.224758Z",
     "iopub.status.busy": "2024-02-19T19:54:05.224097Z",
     "iopub.status.idle": "2024-02-19T19:54:05.260837Z",
     "shell.execute_reply": "2024-02-19T19:54:05.259661Z",
     "shell.execute_reply.started": "2024-02-19T19:54:05.224694Z"
    }
   },
   "outputs": [],
   "source": [
    "print(\"Accuracy is {0:.2f}\".format(accuracy_score(y_test, rm_prd)))\n",
    "print(\"Precision is {0:.2f}\".format(precision_score(y_test, rm_prd)))\n",
    "print(\"Recall is {0:.2f}\".format(recall_score(y_test, rm_prd)))\n",
    "\n",
    "accuracy_rm = accuracy_score(y_test, rm_prd)\n",
    "precision_rm = precision_score(y_test, rm_prd)\n",
    "recall_rm = recall_score(y_test, rm_prd)"
   ]
  },
  {
   "cell_type": "code",
   "execution_count": null,
   "metadata": {
    "execution": {
     "iopub.execute_input": "2024-02-19T19:54:05.262847Z",
     "iopub.status.busy": "2024-02-19T19:54:05.262453Z",
     "iopub.status.idle": "2024-02-19T19:54:05.799257Z",
     "shell.execute_reply": "2024-02-19T19:54:05.798330Z",
     "shell.execute_reply.started": "2024-02-19T19:54:05.262764Z"
    }
   },
   "outputs": [],
   "source": [
    "# Create list of top most features based on importance\n",
    "feature_names = X_train.columns\n",
    "feature_imports = rm.feature_importances_\n",
    "most_imp_features = pd.DataFrame([f for f in zip(feature_names,feature_imports)], columns=[\"Feature\", \"Importance\"]).nlargest(10, \"Importance\")\n",
    "most_imp_features.sort_values(by=\"Importance\", inplace=True)\n",
    "plt.figure(figsize=(10,6))\n",
    "plt.barh(range(len(most_imp_features)), most_imp_features.Importance, align='center', alpha=0.8)\n",
    "plt.yticks(range(len(most_imp_features)), most_imp_features.Feature, fontsize=14)\n",
    "plt.xlabel('Importance')\n",
    "plt.title('Most important features - Random Forest ')\n",
    "plt.show()"
   ]
  },
  {
   "cell_type": "markdown",
   "metadata": {},
   "source": [
    "## Model Comparision"
   ]
  },
  {
   "cell_type": "code",
   "execution_count": null,
   "metadata": {
    "execution": {
     "iopub.execute_input": "2024-02-19T19:54:05.801662Z",
     "iopub.status.busy": "2024-02-19T19:54:05.801286Z",
     "iopub.status.idle": "2024-02-19T19:54:06.259274Z",
     "shell.execute_reply": "2024-02-19T19:54:06.258431Z",
     "shell.execute_reply.started": "2024-02-19T19:54:05.801594Z"
    }
   },
   "outputs": [],
   "source": [
    "plt.figure(figsize=(14, 7))\n",
    "ax = plt.subplot(111)\n",
    "\n",
    "models = ['Logistic Regression', 'Decision Tree', 'Random Forests']\n",
    "values = [accuracy_logit, accuracy_dtree, accuracy_rm]\n",
    "model = np.arange(len(models))\n",
    "\n",
    "plt.bar(model, values, align='center', width = 0.15, alpha=0.7, color = 'red', label= 'accuracy')\n",
    "plt.xticks(model, models)\n",
    "           \n",
    "\n",
    "           \n",
    "ax = plt.subplot(111)\n",
    "\n",
    "models = ['Logistic Regression', 'Decision Tree', 'Random Forests']\n",
    "values = [precision_logit, precision_dtree, precision_rm]\n",
    "model = np.arange(len(models))\n",
    "\n",
    "plt.bar(model+0.15, values, align='center', width = 0.15, alpha=0.7, color = 'blue', label = 'precision')\n",
    "plt.xticks(model, models)\n",
    "\n",
    "\n",
    "\n",
    "ax = plt.subplot(111)\n",
    "\n",
    "models = ['Logistic Regression', 'Decision Tree', 'Random Forests' ]\n",
    "values = [recall_logit, recall_dtree, recall_rm, ]\n",
    "model = np.arange(len(models))\n",
    "\n",
    "plt.bar(model+0.3, values, align='center', width = 0.15, alpha=0.7, color = 'green', label = 'recall')\n",
    "plt.xticks(model, models)\n",
    "\n",
    "\n",
    "\n",
    "plt.ylabel('Performance Metrics for Different models')\n",
    "plt.title('Model')\n",
    "    \n",
    "# removing the axis on the top and right of the plot window\n",
    "ax.spines['right'].set_visible(False)\n",
    "ax.spines['top'].set_visible(False)\n",
    "ax.legend()\n",
    "\n",
    "plt.show()           "
   ]
  },
  {
   "cell_type": "code",
   "execution_count": null,
   "metadata": {
    "execution": {
     "iopub.execute_input": "2024-02-19T20:03:58.379938Z",
     "iopub.status.busy": "2024-02-19T20:03:58.379473Z",
     "iopub.status.idle": "2024-02-19T20:03:58.408551Z",
     "shell.execute_reply": "2024-02-19T20:03:58.407407Z",
     "shell.execute_reply.started": "2024-02-19T20:03:58.379859Z"
    }
   },
   "outputs": [],
   "source": [
    "from joblib import dump\n",
    "dump(rm, 'random_forest_model.joblib')"
   ]
  },
  {
   "cell_type": "code",
   "execution_count": null,
   "metadata": {
    "execution": {
     "iopub.execute_input": "2024-02-19T20:04:02.954007Z",
     "iopub.status.busy": "2024-02-19T20:04:02.953624Z",
     "iopub.status.idle": "2024-02-19T20:04:02.970596Z",
     "shell.execute_reply": "2024-02-19T20:04:02.969607Z",
     "shell.execute_reply.started": "2024-02-19T20:04:02.953933Z"
    }
   },
   "outputs": [],
   "source": [
    "from joblib import load\n",
    "\n",
    "loaded_rf_model = load('random_forest_model.joblib')\n"
   ]
  },
  {
   "cell_type": "code",
   "execution_count": null,
   "metadata": {},
   "outputs": [],
   "source": []
  }
 ],
 "metadata": {
  "kaggle": {
   "accelerator": "none",
   "dataSources": [
    {
     "datasetId": 3724,
     "sourceId": 5903,
     "sourceType": "datasetVersion"
    }
   ],
   "dockerImageVersionId": 25114,
   "isGpuEnabled": false,
   "isInternetEnabled": false,
   "language": "python",
   "sourceType": "notebook"
  },
  "kernelspec": {
   "display_name": "Python 3 (ipykernel)",
   "language": "python",
   "name": "python3"
  },
  "language_info": {
   "codemirror_mode": {
    "name": "ipython",
    "version": 3
   },
   "file_extension": ".py",
   "mimetype": "text/x-python",
   "name": "python",
   "nbconvert_exporter": "python",
   "pygments_lexer": "ipython3",
   "version": "3.10.5"
  }
 },
 "nbformat": 4,
 "nbformat_minor": 4
}
